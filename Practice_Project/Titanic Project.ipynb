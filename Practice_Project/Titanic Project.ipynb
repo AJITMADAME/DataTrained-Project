{
 "cells": [
  {
   "cell_type": "code",
   "execution_count": 1,
   "id": "49cd06a6",
   "metadata": {},
   "outputs": [],
   "source": [
    "import pandas as pd\n",
    "import numpy as np\n",
    "import seaborn as sns\n",
    "import matplotlib.pyplot as plt\n",
    "%matplotlib inline\n",
    "\n",
    "import warnings\n",
    "warnings.filterwarnings('ignore')"
   ]
  },
  {
   "cell_type": "code",
   "execution_count": 2,
   "id": "8c66ba6d",
   "metadata": {},
   "outputs": [],
   "source": [
    "data = pd.read_csv(\"https://raw.githubusercontent.com/dsrscientist/dataset1/master/titanic_train.csv\")"
   ]
  },
  {
   "cell_type": "code",
   "execution_count": 3,
   "id": "0a2039ae",
   "metadata": {},
   "outputs": [
    {
     "data": {
      "text/html": [
       "<div>\n",
       "<style scoped>\n",
       "    .dataframe tbody tr th:only-of-type {\n",
       "        vertical-align: middle;\n",
       "    }\n",
       "\n",
       "    .dataframe tbody tr th {\n",
       "        vertical-align: top;\n",
       "    }\n",
       "\n",
       "    .dataframe thead th {\n",
       "        text-align: right;\n",
       "    }\n",
       "</style>\n",
       "<table border=\"1\" class=\"dataframe\">\n",
       "  <thead>\n",
       "    <tr style=\"text-align: right;\">\n",
       "      <th></th>\n",
       "      <th>PassengerId</th>\n",
       "      <th>Survived</th>\n",
       "      <th>Pclass</th>\n",
       "      <th>Name</th>\n",
       "      <th>Sex</th>\n",
       "      <th>Age</th>\n",
       "      <th>SibSp</th>\n",
       "      <th>Parch</th>\n",
       "      <th>Ticket</th>\n",
       "      <th>Fare</th>\n",
       "      <th>Cabin</th>\n",
       "      <th>Embarked</th>\n",
       "    </tr>\n",
       "  </thead>\n",
       "  <tbody>\n",
       "    <tr>\n",
       "      <th>0</th>\n",
       "      <td>1</td>\n",
       "      <td>0</td>\n",
       "      <td>3</td>\n",
       "      <td>Braund, Mr. Owen Harris</td>\n",
       "      <td>male</td>\n",
       "      <td>22.0</td>\n",
       "      <td>1</td>\n",
       "      <td>0</td>\n",
       "      <td>A/5 21171</td>\n",
       "      <td>7.2500</td>\n",
       "      <td>NaN</td>\n",
       "      <td>S</td>\n",
       "    </tr>\n",
       "    <tr>\n",
       "      <th>1</th>\n",
       "      <td>2</td>\n",
       "      <td>1</td>\n",
       "      <td>1</td>\n",
       "      <td>Cumings, Mrs. John Bradley (Florence Briggs Th...</td>\n",
       "      <td>female</td>\n",
       "      <td>38.0</td>\n",
       "      <td>1</td>\n",
       "      <td>0</td>\n",
       "      <td>PC 17599</td>\n",
       "      <td>71.2833</td>\n",
       "      <td>C85</td>\n",
       "      <td>C</td>\n",
       "    </tr>\n",
       "    <tr>\n",
       "      <th>2</th>\n",
       "      <td>3</td>\n",
       "      <td>1</td>\n",
       "      <td>3</td>\n",
       "      <td>Heikkinen, Miss. Laina</td>\n",
       "      <td>female</td>\n",
       "      <td>26.0</td>\n",
       "      <td>0</td>\n",
       "      <td>0</td>\n",
       "      <td>STON/O2. 3101282</td>\n",
       "      <td>7.9250</td>\n",
       "      <td>NaN</td>\n",
       "      <td>S</td>\n",
       "    </tr>\n",
       "    <tr>\n",
       "      <th>3</th>\n",
       "      <td>4</td>\n",
       "      <td>1</td>\n",
       "      <td>1</td>\n",
       "      <td>Futrelle, Mrs. Jacques Heath (Lily May Peel)</td>\n",
       "      <td>female</td>\n",
       "      <td>35.0</td>\n",
       "      <td>1</td>\n",
       "      <td>0</td>\n",
       "      <td>113803</td>\n",
       "      <td>53.1000</td>\n",
       "      <td>C123</td>\n",
       "      <td>S</td>\n",
       "    </tr>\n",
       "    <tr>\n",
       "      <th>4</th>\n",
       "      <td>5</td>\n",
       "      <td>0</td>\n",
       "      <td>3</td>\n",
       "      <td>Allen, Mr. William Henry</td>\n",
       "      <td>male</td>\n",
       "      <td>35.0</td>\n",
       "      <td>0</td>\n",
       "      <td>0</td>\n",
       "      <td>373450</td>\n",
       "      <td>8.0500</td>\n",
       "      <td>NaN</td>\n",
       "      <td>S</td>\n",
       "    </tr>\n",
       "  </tbody>\n",
       "</table>\n",
       "</div>"
      ],
      "text/plain": [
       "   PassengerId  Survived  Pclass  \\\n",
       "0            1         0       3   \n",
       "1            2         1       1   \n",
       "2            3         1       3   \n",
       "3            4         1       1   \n",
       "4            5         0       3   \n",
       "\n",
       "                                                Name     Sex   Age  SibSp  \\\n",
       "0                            Braund, Mr. Owen Harris    male  22.0      1   \n",
       "1  Cumings, Mrs. John Bradley (Florence Briggs Th...  female  38.0      1   \n",
       "2                             Heikkinen, Miss. Laina  female  26.0      0   \n",
       "3       Futrelle, Mrs. Jacques Heath (Lily May Peel)  female  35.0      1   \n",
       "4                           Allen, Mr. William Henry    male  35.0      0   \n",
       "\n",
       "   Parch            Ticket     Fare Cabin Embarked  \n",
       "0      0         A/5 21171   7.2500   NaN        S  \n",
       "1      0          PC 17599  71.2833   C85        C  \n",
       "2      0  STON/O2. 3101282   7.9250   NaN        S  \n",
       "3      0            113803  53.1000  C123        S  \n",
       "4      0            373450   8.0500   NaN        S  "
      ]
     },
     "execution_count": 3,
     "metadata": {},
     "output_type": "execute_result"
    }
   ],
   "source": [
    "data.head()"
   ]
  },
  {
   "cell_type": "code",
   "execution_count": 4,
   "id": "a49b81f3",
   "metadata": {},
   "outputs": [
    {
     "data": {
      "text/plain": [
       "(891, 12)"
      ]
     },
     "execution_count": 4,
     "metadata": {},
     "output_type": "execute_result"
    }
   ],
   "source": [
    "data.shape"
   ]
  },
  {
   "cell_type": "markdown",
   "id": "30c191d7",
   "metadata": {},
   "source": [
    "## Checking All Information"
   ]
  },
  {
   "cell_type": "code",
   "execution_count": 5,
   "id": "c7e5af04",
   "metadata": {},
   "outputs": [
    {
     "name": "stdout",
     "output_type": "stream",
     "text": [
      "<class 'pandas.core.frame.DataFrame'>\n",
      "RangeIndex: 891 entries, 0 to 890\n",
      "Data columns (total 12 columns):\n",
      " #   Column       Non-Null Count  Dtype  \n",
      "---  ------       --------------  -----  \n",
      " 0   PassengerId  891 non-null    int64  \n",
      " 1   Survived     891 non-null    int64  \n",
      " 2   Pclass       891 non-null    int64  \n",
      " 3   Name         891 non-null    object \n",
      " 4   Sex          891 non-null    object \n",
      " 5   Age          714 non-null    float64\n",
      " 6   SibSp        891 non-null    int64  \n",
      " 7   Parch        891 non-null    int64  \n",
      " 8   Ticket       891 non-null    object \n",
      " 9   Fare         891 non-null    float64\n",
      " 10  Cabin        204 non-null    object \n",
      " 11  Embarked     889 non-null    object \n",
      "dtypes: float64(2), int64(5), object(5)\n",
      "memory usage: 83.7+ KB\n"
     ]
    }
   ],
   "source": [
    "data.info()"
   ]
  },
  {
   "cell_type": "markdown",
   "id": "e4a5f035",
   "metadata": {},
   "source": [
    "- All data type is ok with respect to their features. "
   ]
  },
  {
   "cell_type": "markdown",
   "id": "7a8f9392",
   "metadata": {},
   "source": [
    "## EDA"
   ]
  },
  {
   "cell_type": "markdown",
   "id": "0ce64427",
   "metadata": {},
   "source": [
    "### Checking Null Values"
   ]
  },
  {
   "cell_type": "code",
   "execution_count": 6,
   "id": "268d14a4",
   "metadata": {},
   "outputs": [
    {
     "data": {
      "text/plain": [
       "PassengerId      0\n",
       "Survived         0\n",
       "Pclass           0\n",
       "Name             0\n",
       "Sex              0\n",
       "Age            177\n",
       "SibSp            0\n",
       "Parch            0\n",
       "Ticket           0\n",
       "Fare             0\n",
       "Cabin          687\n",
       "Embarked         2\n",
       "dtype: int64"
      ]
     },
     "execution_count": 6,
     "metadata": {},
     "output_type": "execute_result"
    }
   ],
   "source": [
    "data.isnull().sum()"
   ]
  },
  {
   "cell_type": "code",
   "execution_count": 7,
   "id": "91d779bf",
   "metadata": {},
   "outputs": [
    {
     "data": {
      "text/plain": [
       "<AxesSubplot:>"
      ]
     },
     "execution_count": 7,
     "metadata": {},
     "output_type": "execute_result"
    },
    {
     "data": {
      "image/png": "[encoded data removed]",
      "text/plain": [
       "<Figure size 432x288 with 1 Axes>"
      ]
     },
     "metadata": {
      "needs_background": "light"
     },
     "output_type": "display_data"
    }
   ],
   "source": [
    "sns.heatmap(data.isnull(),yticklabels=False, cbar=False, cmap='viridis')"
   ]
  },
  {
   "cell_type": "markdown",
   "id": "3f33ba43",
   "metadata": {},
   "source": [
    " - There is a null values present in Age, Emabrked And Cabin column.\n",
    " - There is 70% data missing in cabin column so i will drop this column while feature selection."
   ]
  },
  {
   "cell_type": "code",
   "execution_count": 8,
   "id": "83c65179",
   "metadata": {},
   "outputs": [
    {
     "data": {
      "text/plain": [
       "<AxesSubplot:xlabel='Survived', ylabel='count'>"
      ]
     },
     "execution_count": 8,
     "metadata": {},
     "output_type": "execute_result"
    },
    {
     "data": {
      "image/png": "[encoded data removed]",
      "text/plain": [
       "<Figure size 432x288 with 1 Axes>"
      ]
     },
     "metadata": {
      "needs_background": "light"
     },
     "output_type": "display_data"
    }
   ],
   "source": [
    "sns.countplot(x='Survived',data=data)"
   ]
  },
  {
   "cell_type": "markdown",
   "id": "c50a60ae",
   "metadata": {},
   "source": [
    "- There is around 500 people are not survived and 310 people are survived."
   ]
  },
  {
   "cell_type": "code",
   "execution_count": 9,
   "id": "34383f9f",
   "metadata": {},
   "outputs": [
    {
     "data": {
      "text/plain": [
       "<AxesSubplot:xlabel='Survived', ylabel='count'>"
      ]
     },
     "execution_count": 9,
     "metadata": {},
     "output_type": "execute_result"
    },
    {
     "data": {
      "image/png": "[encoded data removed]",
      "text/plain": [
       "<Figure size 432x288 with 1 Axes>"
      ]
     },
     "metadata": {
      "needs_background": "light"
     },
     "output_type": "display_data"
    }
   ],
   "source": [
    "sns.countplot(x='Survived', hue='Sex',data=data)"
   ]
  },
  {
   "cell_type": "markdown",
   "id": "407d3d32",
   "metadata": {},
   "source": [
    "- We can see, the person whose not survived mostly they are male and less female are died.\n",
    "- In the survied, most of the female are survived and less male are survived."
   ]
  },
  {
   "cell_type": "code",
   "execution_count": 10,
   "id": "b8064528",
   "metadata": {},
   "outputs": [
    {
     "data": {
      "text/plain": [
       "<AxesSubplot:xlabel='Survived', ylabel='count'>"
      ]
     },
     "execution_count": 10,
     "metadata": {},
     "output_type": "execute_result"
    },
    {
     "data": {
      "image/png": "[encoded data removed]",
      "text/plain": [
       "<Figure size 432x288 with 1 Axes>"
      ]
     },
     "metadata": {
      "needs_background": "light"
     },
     "output_type": "display_data"
    }
   ],
   "source": [
    "sns.countplot(x='Survived', hue='Pclass',data=data)"
   ]
  },
  {
   "cell_type": "markdown",
   "id": "29d74e77",
   "metadata": {},
   "source": [
    " - From Pclass 3 there is a many people are died followed by Pclass 2 and Pclass 1.\n",
    " - From Pclass 1, more pople are survived followed by Pclass 3, and Pclass 2."
   ]
  },
  {
   "cell_type": "code",
   "execution_count": 11,
   "id": "9c42a1c4",
   "metadata": {},
   "outputs": [
    {
     "data": {
      "text/plain": [
       "<AxesSubplot:xlabel='Survived', ylabel='count'>"
      ]
     },
     "execution_count": 11,
     "metadata": {},
     "output_type": "execute_result"
    },
    {
     "data": {
      "image/png": "[encoded data removed]",
      "text/plain": [
       "<Figure size 432x288 with 1 Axes>"
      ]
     },
     "metadata": {
      "needs_background": "light"
     },
     "output_type": "display_data"
    }
   ],
   "source": [
    "sns.countplot(x='Survived',hue='Embarked',data=data)"
   ]
  },
  {
   "cell_type": "markdown",
   "id": "59347ef3",
   "metadata": {},
   "source": [
    " - S is having more chance of death, then c and Q.\n",
    " - S is also having more chance to survived followed by C and Q."
   ]
  },
  {
   "cell_type": "code",
   "execution_count": 12,
   "id": "46fbb4fe",
   "metadata": {},
   "outputs": [
    {
     "data": {
      "text/plain": [
       "<AxesSubplot:xlabel='Pclass', ylabel='count'>"
      ]
     },
     "execution_count": 12,
     "metadata": {},
     "output_type": "execute_result"
    },
    {
     "data": {
      "image/png": "[encoded data removed]",
      "text/plain": [
       "<Figure size 432x288 with 1 Axes>"
      ]
     },
     "metadata": {
      "needs_background": "light"
     },
     "output_type": "display_data"
    }
   ],
   "source": [
    "sns.countplot(x='Pclass',data=data)"
   ]
  },
  {
   "cell_type": "markdown",
   "id": "19982492",
   "metadata": {},
   "source": [
    " - We can see, in Pclass 3 the more people are travel then Pclass 1 and Pclass 2."
   ]
  },
  {
   "cell_type": "code",
   "execution_count": 13,
   "id": "3f47b0fc",
   "metadata": {},
   "outputs": [
    {
     "data": {
      "text/plain": [
       "<AxesSubplot:xlabel='Sex', ylabel='count'>"
      ]
     },
     "execution_count": 13,
     "metadata": {},
     "output_type": "execute_result"
    },
    {
     "data": {
      "image/png": "[encoded data removed]",
      "text/plain": [
       "<Figure size 432x288 with 1 Axes>"
      ]
     },
     "metadata": {
      "needs_background": "light"
     },
     "output_type": "display_data"
    }
   ],
   "source": [
    "sns.countplot(x='Sex',data=data)"
   ]
  },
  {
   "cell_type": "markdown",
   "id": "db756151",
   "metadata": {},
   "source": [
    "- The male are more survived then female."
   ]
  },
  {
   "cell_type": "code",
   "execution_count": 14,
   "id": "85680d62",
   "metadata": {},
   "outputs": [
    {
     "data": {
      "text/plain": [
       "<AxesSubplot:xlabel='SibSp', ylabel='count'>"
      ]
     },
     "execution_count": 14,
     "metadata": {},
     "output_type": "execute_result"
    },
    {
     "data": {
      "image/png": "[encoded data removed]",
      "text/plain": [
       "<Figure size 432x288 with 1 Axes>"
      ]
     },
     "metadata": {
      "needs_background": "light"
     },
     "output_type": "display_data"
    }
   ],
   "source": [
    "sns.countplot(x='SibSp',data=data)"
   ]
  },
  {
   "cell_type": "markdown",
   "id": "ca3779ec",
   "metadata": {},
   "source": [
    "- There is around 600 people whose dont have SibSp.\n",
    "- The 1 is show that, there is possibility that people whose travel with thire spouse.\n",
    "- After 2 it show that, there is have 1,2,3 and 4 SibSp.\n",
    " "
   ]
  },
  {
   "cell_type": "code",
   "execution_count": 15,
   "id": "8dac679d",
   "metadata": {},
   "outputs": [
    {
     "data": {
      "text/plain": [
       "<AxesSubplot:xlabel='Parch', ylabel='count'>"
      ]
     },
     "execution_count": 15,
     "metadata": {},
     "output_type": "execute_result"
    },
    {
     "data": {
      "image/png": "[encoded data removed]",
      "text/plain": [
       "<Figure size 432x288 with 1 Axes>"
      ]
     },
     "metadata": {
      "needs_background": "light"
     },
     "output_type": "display_data"
    }
   ],
   "source": [
    "sns.countplot(x='Parch',data=data)"
   ]
  },
  {
   "cell_type": "markdown",
   "id": "ba2ed51c",
   "metadata": {},
   "source": [
    " - There are > 650 people whose dont have Parch.\n",
    " - After 0 it show that, there is have 1,2 and 3 Parch."
   ]
  },
  {
   "cell_type": "code",
   "execution_count": 16,
   "id": "1fe058de",
   "metadata": {},
   "outputs": [
    {
     "data": {
      "text/plain": [
       "<AxesSubplot:xlabel='Age', ylabel='Density'>"
      ]
     },
     "execution_count": 16,
     "metadata": {},
     "output_type": "execute_result"
    },
    {
     "data": {
      "image/png": "[encoded data removed]",
      "text/plain": [
       "<Figure size 432x288 with 1 Axes>"
      ]
     },
     "metadata": {
      "needs_background": "light"
     },
     "output_type": "display_data"
    }
   ],
   "source": [
    "sns.distplot(data['Age'])"
   ]
  },
  {
   "cell_type": "markdown",
   "id": "abdb2946",
   "metadata": {},
   "source": [
    " - Age followed nearly followed normal distributio"
   ]
  },
  {
   "cell_type": "markdown",
   "id": "578934de",
   "metadata": {},
   "source": [
    "####  Survived with respect to age"
   ]
  },
  {
   "cell_type": "code",
   "execution_count": 17,
   "id": "1cbb228a",
   "metadata": {},
   "outputs": [
    {
     "data": {
      "text/plain": [
       "<AxesSubplot:xlabel='Age', ylabel='Density'>"
      ]
     },
     "execution_count": 17,
     "metadata": {},
     "output_type": "execute_result"
    },
    {
     "data": {
      "image/png": "[encoded data removed]",
      "text/plain": [
       "<Figure size 432x288 with 1 Axes>"
      ]
     },
     "metadata": {
      "needs_background": "light"
     },
     "output_type": "display_data"
    }
   ],
   "source": [
    "\n",
    "sns.distplot(data[data['Survived']==0]['Age'])\n",
    "sns.distplot(data[data['Survived']==1]['Age'])"
   ]
  },
  {
   "cell_type": "markdown",
   "id": "7fc47a51",
   "metadata": {},
   "source": [
    " - In the lower age, there is low chance of died then survived.\n",
    " - 15 to 35 in this range, the chance of died is high.\n",
    " - 35 to onwords , threr is having more chace of survived."
   ]
  },
  {
   "cell_type": "code",
   "execution_count": 18,
   "id": "4285ea04",
   "metadata": {},
   "outputs": [
    {
     "data": {
      "text/plain": [
       "<AxesSubplot:xlabel='Age'>"
      ]
     },
     "execution_count": 18,
     "metadata": {},
     "output_type": "execute_result"
    },
    {
     "data": {
      "image/png": "[encoded data removed]",
      "text/plain": [
       "<Figure size 432x288 with 1 Axes>"
      ]
     },
     "metadata": {
      "needs_background": "light"
     },
     "output_type": "display_data"
    }
   ],
   "source": [
    "sns.distplot(data['Age'].dropna(),color='darkred',kde=False, bins=40)"
   ]
  },
  {
   "cell_type": "markdown",
   "id": "528d72b2",
   "metadata": {},
   "source": [
    "- There is maximum people are lies in the range 17 to 40.\n",
    "- There is less people from 60 to 80 range."
   ]
  },
  {
   "cell_type": "code",
   "execution_count": 19,
   "id": "517f8966",
   "metadata": {},
   "outputs": [
    {
     "data": {
      "text/plain": [
       "<AxesSubplot:>"
      ]
     },
     "execution_count": 19,
     "metadata": {},
     "output_type": "execute_result"
    },
    {
     "data": {
      "image/png": "[encoded data removed]",
      "text/plain": [
       "<Figure size 576x288 with 1 Axes>"
      ]
     },
     "metadata": {
      "needs_background": "light"
     },
     "output_type": "display_data"
    }
   ],
   "source": [
    "data['Fare'].hist(color='green',bins=40, figsize=(8,4))"
   ]
  },
  {
   "cell_type": "markdown",
   "id": "4553740b",
   "metadata": {},
   "source": [
    " - We can see, 0 to 100 fare whose bought the ticket."
   ]
  },
  {
   "cell_type": "markdown",
   "id": "722fe52f",
   "metadata": {},
   "source": [
    "## Filling Null Values"
   ]
  },
  {
   "cell_type": "code",
   "execution_count": 20,
   "id": "33d0c818",
   "metadata": {},
   "outputs": [
    {
     "data": {
      "text/plain": [
       "S    644\n",
       "C    168\n",
       "Q     77\n",
       "Name: Embarked, dtype: int64"
      ]
     },
     "execution_count": 20,
     "metadata": {},
     "output_type": "execute_result"
    }
   ],
   "source": [
    "data['Embarked'].value_counts()"
   ]
  },
  {
   "cell_type": "code",
   "execution_count": 21,
   "id": "3fe8e9ab",
   "metadata": {},
   "outputs": [],
   "source": [
    "## In this there is only 2 Null values are present so i am filling this values with that value which is repeating more time. i.e. s \n",
    "data['Embarked'].fillna('S',inplace=True)"
   ]
  },
  {
   "cell_type": "code",
   "execution_count": 22,
   "id": "960a2610",
   "metadata": {},
   "outputs": [],
   "source": [
    "# Filling Age with taking mean of all age.\n",
    "data['Age'].fillna(data['Age'].mean(), inplace=True)"
   ]
  },
  {
   "cell_type": "code",
   "execution_count": 23,
   "id": "377a8990",
   "metadata": {},
   "outputs": [],
   "source": [
    "# i simply drop this column becouse it have more than 70% of null values.\n",
    "data.drop(columns=['Cabin'],inplace=True)"
   ]
  },
  {
   "cell_type": "code",
   "execution_count": 24,
   "id": "5c7165d0",
   "metadata": {},
   "outputs": [],
   "source": [
    "# I am alos drop Name and Ticket Features\n",
    "data.drop(columns=['Name','Ticket'],inplace=True)"
   ]
  },
  {
   "cell_type": "code",
   "execution_count": 25,
   "id": "82ca0d20",
   "metadata": {},
   "outputs": [
    {
     "data": {
      "text/html": [
       "<div>\n",
       "<style scoped>\n",
       "    .dataframe tbody tr th:only-of-type {\n",
       "        vertical-align: middle;\n",
       "    }\n",
       "\n",
       "    .dataframe tbody tr th {\n",
       "        vertical-align: top;\n",
       "    }\n",
       "\n",
       "    .dataframe thead th {\n",
       "        text-align: right;\n",
       "    }\n",
       "</style>\n",
       "<table border=\"1\" class=\"dataframe\">\n",
       "  <thead>\n",
       "    <tr style=\"text-align: right;\">\n",
       "      <th></th>\n",
       "      <th>PassengerId</th>\n",
       "      <th>Survived</th>\n",
       "      <th>Pclass</th>\n",
       "      <th>Sex</th>\n",
       "      <th>Age</th>\n",
       "      <th>SibSp</th>\n",
       "      <th>Parch</th>\n",
       "      <th>Fare</th>\n",
       "      <th>Embarked</th>\n",
       "    </tr>\n",
       "  </thead>\n",
       "  <tbody>\n",
       "    <tr>\n",
       "      <th>0</th>\n",
       "      <td>1</td>\n",
       "      <td>0</td>\n",
       "      <td>3</td>\n",
       "      <td>male</td>\n",
       "      <td>22.0</td>\n",
       "      <td>1</td>\n",
       "      <td>0</td>\n",
       "      <td>7.2500</td>\n",
       "      <td>S</td>\n",
       "    </tr>\n",
       "    <tr>\n",
       "      <th>1</th>\n",
       "      <td>2</td>\n",
       "      <td>1</td>\n",
       "      <td>1</td>\n",
       "      <td>female</td>\n",
       "      <td>38.0</td>\n",
       "      <td>1</td>\n",
       "      <td>0</td>\n",
       "      <td>71.2833</td>\n",
       "      <td>C</td>\n",
       "    </tr>\n",
       "    <tr>\n",
       "      <th>2</th>\n",
       "      <td>3</td>\n",
       "      <td>1</td>\n",
       "      <td>3</td>\n",
       "      <td>female</td>\n",
       "      <td>26.0</td>\n",
       "      <td>0</td>\n",
       "      <td>0</td>\n",
       "      <td>7.9250</td>\n",
       "      <td>S</td>\n",
       "    </tr>\n",
       "    <tr>\n",
       "      <th>3</th>\n",
       "      <td>4</td>\n",
       "      <td>1</td>\n",
       "      <td>1</td>\n",
       "      <td>female</td>\n",
       "      <td>35.0</td>\n",
       "      <td>1</td>\n",
       "      <td>0</td>\n",
       "      <td>53.1000</td>\n",
       "      <td>S</td>\n",
       "    </tr>\n",
       "    <tr>\n",
       "      <th>4</th>\n",
       "      <td>5</td>\n",
       "      <td>0</td>\n",
       "      <td>3</td>\n",
       "      <td>male</td>\n",
       "      <td>35.0</td>\n",
       "      <td>0</td>\n",
       "      <td>0</td>\n",
       "      <td>8.0500</td>\n",
       "      <td>S</td>\n",
       "    </tr>\n",
       "  </tbody>\n",
       "</table>\n",
       "</div>"
      ],
      "text/plain": [
       "   PassengerId  Survived  Pclass     Sex   Age  SibSp  Parch     Fare Embarked\n",
       "0            1         0       3    male  22.0      1      0   7.2500        S\n",
       "1            2         1       1  female  38.0      1      0  71.2833        C\n",
       "2            3         1       3  female  26.0      0      0   7.9250        S\n",
       "3            4         1       1  female  35.0      1      0  53.1000        S\n",
       "4            5         0       3    male  35.0      0      0   8.0500        S"
      ]
     },
     "execution_count": 25,
     "metadata": {},
     "output_type": "execute_result"
    }
   ],
   "source": [
    "data.head()"
   ]
  },
  {
   "cell_type": "code",
   "execution_count": 26,
   "id": "ea08246a",
   "metadata": {},
   "outputs": [
    {
     "data": {
      "text/plain": [
       "PassengerId    0\n",
       "Survived       0\n",
       "Pclass         0\n",
       "Sex            0\n",
       "Age            0\n",
       "SibSp          0\n",
       "Parch          0\n",
       "Fare           0\n",
       "Embarked       0\n",
       "dtype: int64"
      ]
     },
     "execution_count": 26,
     "metadata": {},
     "output_type": "execute_result"
    }
   ],
   "source": [
    "data.isnull().sum()"
   ]
  },
  {
   "cell_type": "markdown",
   "id": "bae6113d",
   "metadata": {},
   "source": [
    " - After filling null values, No null values are present."
   ]
  },
  {
   "cell_type": "markdown",
   "id": "a56f4dc5",
   "metadata": {},
   "source": [
    "### Making New Feature Family_type"
   ]
  },
  {
   "cell_type": "code",
   "execution_count": 27,
   "id": "b568d4a7",
   "metadata": {},
   "outputs": [],
   "source": [
    "data['Family_size'] = data['Parch'] + data['SibSp']"
   ]
  },
  {
   "cell_type": "code",
   "execution_count": 28,
   "id": "f022ef39",
   "metadata": {},
   "outputs": [
    {
     "data": {
      "text/html": [
       "<div>\n",
       "<style scoped>\n",
       "    .dataframe tbody tr th:only-of-type {\n",
       "        vertical-align: middle;\n",
       "    }\n",
       "\n",
       "    .dataframe tbody tr th {\n",
       "        vertical-align: top;\n",
       "    }\n",
       "\n",
       "    .dataframe thead th {\n",
       "        text-align: right;\n",
       "    }\n",
       "</style>\n",
       "<table border=\"1\" class=\"dataframe\">\n",
       "  <thead>\n",
       "    <tr style=\"text-align: right;\">\n",
       "      <th></th>\n",
       "      <th>PassengerId</th>\n",
       "      <th>Survived</th>\n",
       "      <th>Pclass</th>\n",
       "      <th>Sex</th>\n",
       "      <th>Age</th>\n",
       "      <th>SibSp</th>\n",
       "      <th>Parch</th>\n",
       "      <th>Fare</th>\n",
       "      <th>Embarked</th>\n",
       "      <th>Family_size</th>\n",
       "    </tr>\n",
       "  </thead>\n",
       "  <tbody>\n",
       "    <tr>\n",
       "      <th>0</th>\n",
       "      <td>1</td>\n",
       "      <td>0</td>\n",
       "      <td>3</td>\n",
       "      <td>male</td>\n",
       "      <td>22.0</td>\n",
       "      <td>1</td>\n",
       "      <td>0</td>\n",
       "      <td>7.2500</td>\n",
       "      <td>S</td>\n",
       "      <td>1</td>\n",
       "    </tr>\n",
       "    <tr>\n",
       "      <th>1</th>\n",
       "      <td>2</td>\n",
       "      <td>1</td>\n",
       "      <td>1</td>\n",
       "      <td>female</td>\n",
       "      <td>38.0</td>\n",
       "      <td>1</td>\n",
       "      <td>0</td>\n",
       "      <td>71.2833</td>\n",
       "      <td>C</td>\n",
       "      <td>1</td>\n",
       "    </tr>\n",
       "  </tbody>\n",
       "</table>\n",
       "</div>"
      ],
      "text/plain": [
       "   PassengerId  Survived  Pclass     Sex   Age  SibSp  Parch     Fare  \\\n",
       "0            1         0       3    male  22.0      1      0   7.2500   \n",
       "1            2         1       1  female  38.0      1      0  71.2833   \n",
       "\n",
       "  Embarked  Family_size  \n",
       "0        S            1  \n",
       "1        C            1  "
      ]
     },
     "execution_count": 28,
     "metadata": {},
     "output_type": "execute_result"
    }
   ],
   "source": [
    "data.head(2)"
   ]
  },
  {
   "cell_type": "code",
   "execution_count": 29,
   "id": "b5325fa1",
   "metadata": {},
   "outputs": [],
   "source": [
    "def family_type(num):\n",
    "    if num ==0:\n",
    "        return 'Alone'\n",
    "    elif num > 0 and num <= 4:\n",
    "        return 'Medium'\n",
    "    else:\n",
    "        return 'Large'"
   ]
  },
  {
   "cell_type": "code",
   "execution_count": 30,
   "id": "d25988fd",
   "metadata": {},
   "outputs": [],
   "source": [
    "data['Family_type'] = data['Family_size'].apply(family_type)"
   ]
  },
  {
   "cell_type": "code",
   "execution_count": 31,
   "id": "c009d524",
   "metadata": {},
   "outputs": [
    {
     "data": {
      "text/html": [
       "<div>\n",
       "<style scoped>\n",
       "    .dataframe tbody tr th:only-of-type {\n",
       "        vertical-align: middle;\n",
       "    }\n",
       "\n",
       "    .dataframe tbody tr th {\n",
       "        vertical-align: top;\n",
       "    }\n",
       "\n",
       "    .dataframe thead th {\n",
       "        text-align: right;\n",
       "    }\n",
       "</style>\n",
       "<table border=\"1\" class=\"dataframe\">\n",
       "  <thead>\n",
       "    <tr style=\"text-align: right;\">\n",
       "      <th></th>\n",
       "      <th>PassengerId</th>\n",
       "      <th>Survived</th>\n",
       "      <th>Pclass</th>\n",
       "      <th>Sex</th>\n",
       "      <th>Age</th>\n",
       "      <th>SibSp</th>\n",
       "      <th>Parch</th>\n",
       "      <th>Fare</th>\n",
       "      <th>Embarked</th>\n",
       "      <th>Family_size</th>\n",
       "      <th>Family_type</th>\n",
       "    </tr>\n",
       "  </thead>\n",
       "  <tbody>\n",
       "    <tr>\n",
       "      <th>0</th>\n",
       "      <td>1</td>\n",
       "      <td>0</td>\n",
       "      <td>3</td>\n",
       "      <td>male</td>\n",
       "      <td>22.0</td>\n",
       "      <td>1</td>\n",
       "      <td>0</td>\n",
       "      <td>7.2500</td>\n",
       "      <td>S</td>\n",
       "      <td>1</td>\n",
       "      <td>Medium</td>\n",
       "    </tr>\n",
       "    <tr>\n",
       "      <th>1</th>\n",
       "      <td>2</td>\n",
       "      <td>1</td>\n",
       "      <td>1</td>\n",
       "      <td>female</td>\n",
       "      <td>38.0</td>\n",
       "      <td>1</td>\n",
       "      <td>0</td>\n",
       "      <td>71.2833</td>\n",
       "      <td>C</td>\n",
       "      <td>1</td>\n",
       "      <td>Medium</td>\n",
       "    </tr>\n",
       "  </tbody>\n",
       "</table>\n",
       "</div>"
      ],
      "text/plain": [
       "   PassengerId  Survived  Pclass     Sex   Age  SibSp  Parch     Fare  \\\n",
       "0            1         0       3    male  22.0      1      0   7.2500   \n",
       "1            2         1       1  female  38.0      1      0  71.2833   \n",
       "\n",
       "  Embarked  Family_size Family_type  \n",
       "0        S            1      Medium  \n",
       "1        C            1      Medium  "
      ]
     },
     "execution_count": 31,
     "metadata": {},
     "output_type": "execute_result"
    }
   ],
   "source": [
    "data.head(2)"
   ]
  },
  {
   "cell_type": "code",
   "execution_count": 32,
   "id": "1edd71dc",
   "metadata": {},
   "outputs": [],
   "source": [
    "data.drop(columns=['SibSp','Parch','Family_size'],inplace=True)"
   ]
  },
  {
   "cell_type": "code",
   "execution_count": 33,
   "id": "b9c095b6",
   "metadata": {},
   "outputs": [
    {
     "data": {
      "text/html": [
       "<div>\n",
       "<style scoped>\n",
       "    .dataframe tbody tr th:only-of-type {\n",
       "        vertical-align: middle;\n",
       "    }\n",
       "\n",
       "    .dataframe tbody tr th {\n",
       "        vertical-align: top;\n",
       "    }\n",
       "\n",
       "    .dataframe thead th {\n",
       "        text-align: right;\n",
       "    }\n",
       "</style>\n",
       "<table border=\"1\" class=\"dataframe\">\n",
       "  <thead>\n",
       "    <tr style=\"text-align: right;\">\n",
       "      <th></th>\n",
       "      <th>PassengerId</th>\n",
       "      <th>Survived</th>\n",
       "      <th>Pclass</th>\n",
       "      <th>Sex</th>\n",
       "      <th>Age</th>\n",
       "      <th>Fare</th>\n",
       "      <th>Embarked</th>\n",
       "      <th>Family_type</th>\n",
       "    </tr>\n",
       "  </thead>\n",
       "  <tbody>\n",
       "    <tr>\n",
       "      <th>0</th>\n",
       "      <td>1</td>\n",
       "      <td>0</td>\n",
       "      <td>3</td>\n",
       "      <td>male</td>\n",
       "      <td>22.0</td>\n",
       "      <td>7.2500</td>\n",
       "      <td>S</td>\n",
       "      <td>Medium</td>\n",
       "    </tr>\n",
       "    <tr>\n",
       "      <th>1</th>\n",
       "      <td>2</td>\n",
       "      <td>1</td>\n",
       "      <td>1</td>\n",
       "      <td>female</td>\n",
       "      <td>38.0</td>\n",
       "      <td>71.2833</td>\n",
       "      <td>C</td>\n",
       "      <td>Medium</td>\n",
       "    </tr>\n",
       "  </tbody>\n",
       "</table>\n",
       "</div>"
      ],
      "text/plain": [
       "   PassengerId  Survived  Pclass     Sex   Age     Fare Embarked Family_type\n",
       "0            1         0       3    male  22.0   7.2500        S      Medium\n",
       "1            2         1       1  female  38.0  71.2833        C      Medium"
      ]
     },
     "execution_count": 33,
     "metadata": {},
     "output_type": "execute_result"
    }
   ],
   "source": [
    "data.head(2)"
   ]
  },
  {
   "cell_type": "markdown",
   "id": "5162ad90",
   "metadata": {},
   "source": [
    "## Encoding the Dataframe"
   ]
  },
  {
   "cell_type": "code",
   "execution_count": 34,
   "id": "b5f66aae",
   "metadata": {},
   "outputs": [],
   "source": [
    "data = pd.get_dummies(data=data, columns=['Pclass','Sex','Embarked','Family_type'], drop_first=True)"
   ]
  },
  {
   "cell_type": "code",
   "execution_count": 35,
   "id": "5d6ae5d1",
   "metadata": {},
   "outputs": [
    {
     "data": {
      "text/html": [
       "<div>\n",
       "<style scoped>\n",
       "    .dataframe tbody tr th:only-of-type {\n",
       "        vertical-align: middle;\n",
       "    }\n",
       "\n",
       "    .dataframe tbody tr th {\n",
       "        vertical-align: top;\n",
       "    }\n",
       "\n",
       "    .dataframe thead th {\n",
       "        text-align: right;\n",
       "    }\n",
       "</style>\n",
       "<table border=\"1\" class=\"dataframe\">\n",
       "  <thead>\n",
       "    <tr style=\"text-align: right;\">\n",
       "      <th></th>\n",
       "      <th>PassengerId</th>\n",
       "      <th>Survived</th>\n",
       "      <th>Age</th>\n",
       "      <th>Fare</th>\n",
       "      <th>Pclass_2</th>\n",
       "      <th>Pclass_3</th>\n",
       "      <th>Sex_male</th>\n",
       "      <th>Embarked_Q</th>\n",
       "      <th>Embarked_S</th>\n",
       "      <th>Family_type_Large</th>\n",
       "      <th>Family_type_Medium</th>\n",
       "    </tr>\n",
       "  </thead>\n",
       "  <tbody>\n",
       "    <tr>\n",
       "      <th>0</th>\n",
       "      <td>1</td>\n",
       "      <td>0</td>\n",
       "      <td>22.0</td>\n",
       "      <td>7.2500</td>\n",
       "      <td>0</td>\n",
       "      <td>1</td>\n",
       "      <td>1</td>\n",
       "      <td>0</td>\n",
       "      <td>1</td>\n",
       "      <td>0</td>\n",
       "      <td>1</td>\n",
       "    </tr>\n",
       "    <tr>\n",
       "      <th>1</th>\n",
       "      <td>2</td>\n",
       "      <td>1</td>\n",
       "      <td>38.0</td>\n",
       "      <td>71.2833</td>\n",
       "      <td>0</td>\n",
       "      <td>0</td>\n",
       "      <td>0</td>\n",
       "      <td>0</td>\n",
       "      <td>0</td>\n",
       "      <td>0</td>\n",
       "      <td>1</td>\n",
       "    </tr>\n",
       "    <tr>\n",
       "      <th>2</th>\n",
       "      <td>3</td>\n",
       "      <td>1</td>\n",
       "      <td>26.0</td>\n",
       "      <td>7.9250</td>\n",
       "      <td>0</td>\n",
       "      <td>1</td>\n",
       "      <td>0</td>\n",
       "      <td>0</td>\n",
       "      <td>1</td>\n",
       "      <td>0</td>\n",
       "      <td>0</td>\n",
       "    </tr>\n",
       "    <tr>\n",
       "      <th>3</th>\n",
       "      <td>4</td>\n",
       "      <td>1</td>\n",
       "      <td>35.0</td>\n",
       "      <td>53.1000</td>\n",
       "      <td>0</td>\n",
       "      <td>0</td>\n",
       "      <td>0</td>\n",
       "      <td>0</td>\n",
       "      <td>1</td>\n",
       "      <td>0</td>\n",
       "      <td>1</td>\n",
       "    </tr>\n",
       "    <tr>\n",
       "      <th>4</th>\n",
       "      <td>5</td>\n",
       "      <td>0</td>\n",
       "      <td>35.0</td>\n",
       "      <td>8.0500</td>\n",
       "      <td>0</td>\n",
       "      <td>1</td>\n",
       "      <td>1</td>\n",
       "      <td>0</td>\n",
       "      <td>1</td>\n",
       "      <td>0</td>\n",
       "      <td>0</td>\n",
       "    </tr>\n",
       "  </tbody>\n",
       "</table>\n",
       "</div>"
      ],
      "text/plain": [
       "   PassengerId  Survived   Age     Fare  Pclass_2  Pclass_3  Sex_male  \\\n",
       "0            1         0  22.0   7.2500         0         1         1   \n",
       "1            2         1  38.0  71.2833         0         0         0   \n",
       "2            3         1  26.0   7.9250         0         1         0   \n",
       "3            4         1  35.0  53.1000         0         0         0   \n",
       "4            5         0  35.0   8.0500         0         1         1   \n",
       "\n",
       "   Embarked_Q  Embarked_S  Family_type_Large  Family_type_Medium  \n",
       "0           0           1                  0                   1  \n",
       "1           0           0                  0                   1  \n",
       "2           0           1                  0                   0  \n",
       "3           0           1                  0                   1  \n",
       "4           0           1                  0                   0  "
      ]
     },
     "execution_count": 35,
     "metadata": {},
     "output_type": "execute_result"
    }
   ],
   "source": [
    "data.head()"
   ]
  },
  {
   "cell_type": "markdown",
   "id": "00280012",
   "metadata": {},
   "source": [
    "## Describe the Dataset"
   ]
  },
  {
   "cell_type": "code",
   "execution_count": 36,
   "id": "fbfcb2b4",
   "metadata": {},
   "outputs": [
    {
     "data": {
      "text/html": [
       "<div>\n",
       "<style scoped>\n",
       "    .dataframe tbody tr th:only-of-type {\n",
       "        vertical-align: middle;\n",
       "    }\n",
       "\n",
       "    .dataframe tbody tr th {\n",
       "        vertical-align: top;\n",
       "    }\n",
       "\n",
       "    .dataframe thead th {\n",
       "        text-align: right;\n",
       "    }\n",
       "</style>\n",
       "<table border=\"1\" class=\"dataframe\">\n",
       "  <thead>\n",
       "    <tr style=\"text-align: right;\">\n",
       "      <th></th>\n",
       "      <th>PassengerId</th>\n",
       "      <th>Survived</th>\n",
       "      <th>Age</th>\n",
       "      <th>Fare</th>\n",
       "      <th>Pclass_2</th>\n",
       "      <th>Pclass_3</th>\n",
       "      <th>Sex_male</th>\n",
       "      <th>Embarked_Q</th>\n",
       "      <th>Embarked_S</th>\n",
       "      <th>Family_type_Large</th>\n",
       "      <th>Family_type_Medium</th>\n",
       "    </tr>\n",
       "  </thead>\n",
       "  <tbody>\n",
       "    <tr>\n",
       "      <th>count</th>\n",
       "      <td>891.000000</td>\n",
       "      <td>891.000000</td>\n",
       "      <td>891.000000</td>\n",
       "      <td>891.000000</td>\n",
       "      <td>891.000000</td>\n",
       "      <td>891.000000</td>\n",
       "      <td>891.000000</td>\n",
       "      <td>891.000000</td>\n",
       "      <td>891.000000</td>\n",
       "      <td>891.000000</td>\n",
       "      <td>891.000000</td>\n",
       "    </tr>\n",
       "    <tr>\n",
       "      <th>mean</th>\n",
       "      <td>446.000000</td>\n",
       "      <td>0.383838</td>\n",
       "      <td>29.699118</td>\n",
       "      <td>32.204208</td>\n",
       "      <td>0.206510</td>\n",
       "      <td>0.551066</td>\n",
       "      <td>0.647587</td>\n",
       "      <td>0.086420</td>\n",
       "      <td>0.725028</td>\n",
       "      <td>0.052750</td>\n",
       "      <td>0.344557</td>\n",
       "    </tr>\n",
       "    <tr>\n",
       "      <th>std</th>\n",
       "      <td>257.353842</td>\n",
       "      <td>0.486592</td>\n",
       "      <td>13.002015</td>\n",
       "      <td>49.693429</td>\n",
       "      <td>0.405028</td>\n",
       "      <td>0.497665</td>\n",
       "      <td>0.477990</td>\n",
       "      <td>0.281141</td>\n",
       "      <td>0.446751</td>\n",
       "      <td>0.223659</td>\n",
       "      <td>0.475490</td>\n",
       "    </tr>\n",
       "    <tr>\n",
       "      <th>min</th>\n",
       "      <td>1.000000</td>\n",
       "      <td>0.000000</td>\n",
       "      <td>0.420000</td>\n",
       "      <td>0.000000</td>\n",
       "      <td>0.000000</td>\n",
       "      <td>0.000000</td>\n",
       "      <td>0.000000</td>\n",
       "      <td>0.000000</td>\n",
       "      <td>0.000000</td>\n",
       "      <td>0.000000</td>\n",
       "      <td>0.000000</td>\n",
       "    </tr>\n",
       "    <tr>\n",
       "      <th>25%</th>\n",
       "      <td>223.500000</td>\n",
       "      <td>0.000000</td>\n",
       "      <td>22.000000</td>\n",
       "      <td>7.910400</td>\n",
       "      <td>0.000000</td>\n",
       "      <td>0.000000</td>\n",
       "      <td>0.000000</td>\n",
       "      <td>0.000000</td>\n",
       "      <td>0.000000</td>\n",
       "      <td>0.000000</td>\n",
       "      <td>0.000000</td>\n",
       "    </tr>\n",
       "    <tr>\n",
       "      <th>50%</th>\n",
       "      <td>446.000000</td>\n",
       "      <td>0.000000</td>\n",
       "      <td>29.699118</td>\n",
       "      <td>14.454200</td>\n",
       "      <td>0.000000</td>\n",
       "      <td>1.000000</td>\n",
       "      <td>1.000000</td>\n",
       "      <td>0.000000</td>\n",
       "      <td>1.000000</td>\n",
       "      <td>0.000000</td>\n",
       "      <td>0.000000</td>\n",
       "    </tr>\n",
       "    <tr>\n",
       "      <th>75%</th>\n",
       "      <td>668.500000</td>\n",
       "      <td>1.000000</td>\n",
       "      <td>35.000000</td>\n",
       "      <td>31.000000</td>\n",
       "      <td>0.000000</td>\n",
       "      <td>1.000000</td>\n",
       "      <td>1.000000</td>\n",
       "      <td>0.000000</td>\n",
       "      <td>1.000000</td>\n",
       "      <td>0.000000</td>\n",
       "      <td>1.000000</td>\n",
       "    </tr>\n",
       "    <tr>\n",
       "      <th>max</th>\n",
       "      <td>891.000000</td>\n",
       "      <td>1.000000</td>\n",
       "      <td>80.000000</td>\n",
       "      <td>512.329200</td>\n",
       "      <td>1.000000</td>\n",
       "      <td>1.000000</td>\n",
       "      <td>1.000000</td>\n",
       "      <td>1.000000</td>\n",
       "      <td>1.000000</td>\n",
       "      <td>1.000000</td>\n",
       "      <td>1.000000</td>\n",
       "    </tr>\n",
       "  </tbody>\n",
       "</table>\n",
       "</div>"
      ],
      "text/plain": [
       "       PassengerId    Survived         Age        Fare    Pclass_2  \\\n",
       "count   891.000000  891.000000  891.000000  891.000000  891.000000   \n",
       "mean    446.000000    0.383838   29.699118   32.204208    0.206510   \n",
       "std     257.353842    0.486592   13.002015   49.693429    0.405028   \n",
       "min       1.000000    0.000000    0.420000    0.000000    0.000000   \n",
       "25%     223.500000    0.000000   22.000000    7.910400    0.000000   \n",
       "50%     446.000000    0.000000   29.699118   14.454200    0.000000   \n",
       "75%     668.500000    1.000000   35.000000   31.000000    0.000000   \n",
       "max     891.000000    1.000000   80.000000  512.329200    1.000000   \n",
       "\n",
       "         Pclass_3    Sex_male  Embarked_Q  Embarked_S  Family_type_Large  \\\n",
       "count  891.000000  891.000000  891.000000  891.000000         891.000000   \n",
       "mean     0.551066    0.647587    0.086420    0.725028           0.052750   \n",
       "std      0.497665    0.477990    0.281141    0.446751           0.223659   \n",
       "min      0.000000    0.000000    0.000000    0.000000           0.000000   \n",
       "25%      0.000000    0.000000    0.000000    0.000000           0.000000   \n",
       "50%      1.000000    1.000000    0.000000    1.000000           0.000000   \n",
       "75%      1.000000    1.000000    0.000000    1.000000           0.000000   \n",
       "max      1.000000    1.000000    1.000000    1.000000           1.000000   \n",
       "\n",
       "       Family_type_Medium  \n",
       "count          891.000000  \n",
       "mean             0.344557  \n",
       "std              0.475490  \n",
       "min              0.000000  \n",
       "25%              0.000000  \n",
       "50%              0.000000  \n",
       "75%              1.000000  \n",
       "max              1.000000  "
      ]
     },
     "execution_count": 36,
     "metadata": {},
     "output_type": "execute_result"
    }
   ],
   "source": [
    "data.describe()"
   ]
  },
  {
   "cell_type": "code",
   "execution_count": 37,
   "id": "1e1ccc11",
   "metadata": {},
   "outputs": [
    {
     "data": {
      "image/png": "[encoded data removed]",
      "text/plain": [
       "<Figure size 1584x504 with 2 Axes>"
      ]
     },
     "metadata": {
      "needs_background": "light"
     },
     "output_type": "display_data"
    }
   ],
   "source": [
    "plt.figure(figsize=(22,7))\n",
    "sns.heatmap(data.describe(), annot=True, fmt=\"0.2f\")\n",
    "plt.show()"
   ]
  },
  {
   "cell_type": "markdown",
   "id": "353f5e20",
   "metadata": {},
   "source": [
    "### Outcome of describe of datasets:\n",
    "\n",
    "From the above plotting we are determining mean, standard deviation, minimum, and maximum value of each column. It helps us further in data cleaning.\n",
    "\n",
    "\n",
    "Total Number of row in the datasets:\n",
    "  1. 891 rows\n",
    "  2. 12 columns\n",
    "  \n",
    " - Age and Fare are having continuos data so i take only this two columns.\n",
    "  \n",
    "Age:\n",
    "  1. Mean = 29.699118\n",
    "  2. std = 13.002015\n",
    "  3. max_value = 80.000000\n",
    "  4. min_value = 0.420000\n",
    "  \n",
    "Fare:\n",
    "  1. Mean = 32.204208\t\n",
    "  2. std = 49.693429\n",
    "  3. max_value = 512.329200\n",
    "  4. min_value = 0.000000\n",
    "  \n",
    " - We can see, std is more than mean, even max_value and min_value have big difference.\n",
    " - So fare may have right-skewness."
   ]
  },
  {
   "cell_type": "markdown",
   "id": "67879e51",
   "metadata": {},
   "source": [
    "## Correlation of the features with target column"
   ]
  },
  {
   "cell_type": "code",
   "execution_count": 38,
   "id": "a19e41a1",
   "metadata": {},
   "outputs": [
    {
     "data": {
      "text/plain": [
       "Sex_male             -0.543351\n",
       "Pclass_3             -0.322308\n",
       "Embarked_S           -0.149683\n",
       "Family_type_Large    -0.113984\n",
       "Age                  -0.069809\n",
       "PassengerId          -0.005007\n",
       "Embarked_Q            0.003650\n",
       "Pclass_2              0.093349\n",
       "Fare                  0.257307\n",
       "Family_type_Medium    0.263023\n",
       "Survived              1.000000\n",
       "Name: Survived, dtype: float64"
      ]
     },
     "execution_count": 38,
     "metadata": {},
     "output_type": "execute_result"
    }
   ],
   "source": [
    "data.corr()['Survived'].sort_values()"
   ]
  },
  {
   "cell_type": "code",
   "execution_count": 39,
   "id": "1dadb67b",
   "metadata": {},
   "outputs": [
    {
     "data": {
      "image/png": "[encoded data removed]",
      "text/plain": [
       "<Figure size 1080x504 with 2 Axes>"
      ]
     },
     "metadata": {
      "needs_background": "light"
     },
     "output_type": "display_data"
    }
   ],
   "source": [
    "plt.figure(figsize=(15,7))\n",
    "sns.heatmap(data.corr(), annot=True, fmt ='.2f')\n",
    "plt.show()"
   ]
  },
  {
   "cell_type": "markdown",
   "id": "6449c9ba",
   "metadata": {},
   "source": [
    "### Outcome of Correlation with target column:\n",
    "\n",
    "  1. Passenger Id has 1% negative correlation with the target column.\n",
    "  2. Age has 7% negative correlation with the target column.\n",
    "  3. Fare has 23% positive correlation with the target column.\n",
    "  4. Pclass 2 has 9% positive correlation with the target column.\n",
    "  5. Pclass 3 has 32% negative correlation with target column.\n",
    "  6. Sex_male has 54% negative correlation with target column.\n",
    "  7. Embarked_Q has 0% correlation with target column.\n",
    "  8. Embarked_S has 15% negative correlation with target column.\n",
    "  9. Family_type_large has 11% negative correlation with target column.\n",
    "  10. Family_type_Medium has 26% positive correlation with target column.\n",
    " "
   ]
  },
  {
   "cell_type": "markdown",
   "id": "8ef23351",
   "metadata": {},
   "source": [
    "## Checking Distribution of Data"
   ]
  },
  {
   "cell_type": "code",
   "execution_count": 40,
   "id": "294f0f37",
   "metadata": {},
   "outputs": [
    {
     "data": {
      "image/png": "[encoded data removed]",
      "text/plain": [
       "<Figure size 1800x1440 with 11 Axes>"
      ]
     },
     "metadata": {
      "needs_background": "light"
     },
     "output_type": "display_data"
    }
   ],
   "source": [
    "plt.figure(figsize=(25,20))\n",
    "plotnumber = 1\n",
    "\n",
    "for column in data:\n",
    "    if plotnumber <=12:\n",
    "        ax = plt.subplot(4,3,plotnumber)\n",
    "        sns.distplot(data[column])\n",
    "        plt.xlabel(column, fontsize=25)\n",
    "    plotnumber +=1\n",
    "plt.tight_layout()"
   ]
  },
  {
   "cell_type": "code",
   "execution_count": 41,
   "id": "162145f0",
   "metadata": {},
   "outputs": [
    {
     "data": {
      "text/plain": [
       "PassengerId           0.000000\n",
       "Survived              0.478523\n",
       "Age                   0.434488\n",
       "Fare                  4.787317\n",
       "Pclass_2              1.452497\n",
       "Pclass_3             -0.205685\n",
       "Sex_male             -0.618921\n",
       "Embarked_Q            2.948778\n",
       "Embarked_S           -1.009665\n",
       "Family_type_Large     4.008393\n",
       "Family_type_Medium    0.655294\n",
       "dtype: float64"
      ]
     },
     "execution_count": 41,
     "metadata": {},
     "output_type": "execute_result"
    }
   ],
   "source": [
    "data.skew()"
   ]
  },
  {
   "cell_type": "markdown",
   "id": "2a752cd2",
   "metadata": {},
   "source": [
    "- Outcome of the skewness: Skewness threshold is taken is +/-0.65.\n",
    "- Fare is having Positive skewness.\n",
    "- Rest of the all feature is having categorical data so not condisered.\n"
   ]
  },
  {
   "cell_type": "markdown",
   "id": "8fac86d1",
   "metadata": {},
   "source": [
    "## Checking Outliers"
   ]
  },
  {
   "cell_type": "code",
   "execution_count": 42,
   "id": "48aa0e33",
   "metadata": {},
   "outputs": [
    {
     "data": {
      "image/png": "[encoded data removed]",
      "text/plain": [
       "<Figure size 1800x1440 with 11 Axes>"
      ]
     },
     "metadata": {
      "needs_background": "light"
     },
     "output_type": "display_data"
    }
   ],
   "source": [
    "plt.figure(figsize=(25,20))\n",
    "plotnumber = 1\n",
    "\n",
    "for column in data:\n",
    "    if plotnumber <=12:\n",
    "        plt.subplot(4,3,plotnumber)\n",
    "        ax = sns.boxplot(data=data[column])\n",
    "        plt.xlabel(column, fontsize=20)\n",
    "    plotnumber +=1\n",
    "plt.show()"
   ]
  },
  {
   "cell_type": "markdown",
   "id": "87036639",
   "metadata": {},
   "source": [
    "- We can see, almost all features is not having outliers.\n",
    "- Age and Fare is having outliers."
   ]
  },
  {
   "cell_type": "markdown",
   "id": "f8523ed3",
   "metadata": {},
   "source": [
    "### Removing Outliers"
   ]
  },
  {
   "cell_type": "code",
   "execution_count": 43,
   "id": "67e30988",
   "metadata": {},
   "outputs": [
    {
     "data": {
      "text/plain": [
       "(864, 11)"
      ]
     },
     "execution_count": 43,
     "metadata": {},
     "output_type": "execute_result"
    }
   ],
   "source": [
    "from scipy.stats import zscore\n",
    "\n",
    "z_score = zscore(data[['Age','Fare']])\n",
    "abs_z_score = np.abs(z_score)    \n",
    "\n",
    "filtering_entry = (abs_z_score  < 3).all(axis=1)\n",
    "\n",
    "df = data[filtering_entry]\n",
    "\n",
    "df.shape"
   ]
  },
  {
   "cell_type": "markdown",
   "id": "d2f0b9b7",
   "metadata": {},
   "source": [
    "### Percentage of data loss"
   ]
  },
  {
   "cell_type": "code",
   "execution_count": 44,
   "id": "8bf755c1",
   "metadata": {},
   "outputs": [
    {
     "name": "stdout",
     "output_type": "stream",
     "text": [
      "3.0303030303030303 %\n"
     ]
    }
   ],
   "source": [
    "data_loss = ((891 - 864)/891*100)\n",
    "print(data_loss,'%')"
   ]
  },
  {
   "cell_type": "markdown",
   "id": "664f917f",
   "metadata": {},
   "source": [
    "## Separating columns into features and label"
   ]
  },
  {
   "cell_type": "code",
   "execution_count": 45,
   "id": "90c35619",
   "metadata": {},
   "outputs": [],
   "source": [
    "# Passenger_Id is having 1% correlation with target colum so i drop this feature\n",
    "x = df.drop(columns=['Survived','PassengerId'],axis=1)\n",
    "\n",
    "y = df['Survived']"
   ]
  },
  {
   "cell_type": "code",
   "execution_count": 46,
   "id": "8d4e75c6",
   "metadata": {},
   "outputs": [
    {
     "data": {
      "text/html": [
       "<div>\n",
       "<style scoped>\n",
       "    .dataframe tbody tr th:only-of-type {\n",
       "        vertical-align: middle;\n",
       "    }\n",
       "\n",
       "    .dataframe tbody tr th {\n",
       "        vertical-align: top;\n",
       "    }\n",
       "\n",
       "    .dataframe thead th {\n",
       "        text-align: right;\n",
       "    }\n",
       "</style>\n",
       "<table border=\"1\" class=\"dataframe\">\n",
       "  <thead>\n",
       "    <tr style=\"text-align: right;\">\n",
       "      <th></th>\n",
       "      <th>Age</th>\n",
       "      <th>Fare</th>\n",
       "      <th>Pclass_2</th>\n",
       "      <th>Pclass_3</th>\n",
       "      <th>Sex_male</th>\n",
       "      <th>Embarked_Q</th>\n",
       "      <th>Embarked_S</th>\n",
       "      <th>Family_type_Large</th>\n",
       "      <th>Family_type_Medium</th>\n",
       "    </tr>\n",
       "  </thead>\n",
       "  <tbody>\n",
       "    <tr>\n",
       "      <th>0</th>\n",
       "      <td>22.0</td>\n",
       "      <td>7.2500</td>\n",
       "      <td>0</td>\n",
       "      <td>1</td>\n",
       "      <td>1</td>\n",
       "      <td>0</td>\n",
       "      <td>1</td>\n",
       "      <td>0</td>\n",
       "      <td>1</td>\n",
       "    </tr>\n",
       "    <tr>\n",
       "      <th>1</th>\n",
       "      <td>38.0</td>\n",
       "      <td>71.2833</td>\n",
       "      <td>0</td>\n",
       "      <td>0</td>\n",
       "      <td>0</td>\n",
       "      <td>0</td>\n",
       "      <td>0</td>\n",
       "      <td>0</td>\n",
       "      <td>1</td>\n",
       "    </tr>\n",
       "    <tr>\n",
       "      <th>2</th>\n",
       "      <td>26.0</td>\n",
       "      <td>7.9250</td>\n",
       "      <td>0</td>\n",
       "      <td>1</td>\n",
       "      <td>0</td>\n",
       "      <td>0</td>\n",
       "      <td>1</td>\n",
       "      <td>0</td>\n",
       "      <td>0</td>\n",
       "    </tr>\n",
       "  </tbody>\n",
       "</table>\n",
       "</div>"
      ],
      "text/plain": [
       "    Age     Fare  Pclass_2  Pclass_3  Sex_male  Embarked_Q  Embarked_S  \\\n",
       "0  22.0   7.2500         0         1         1           0           1   \n",
       "1  38.0  71.2833         0         0         0           0           0   \n",
       "2  26.0   7.9250         0         1         0           0           1   \n",
       "\n",
       "   Family_type_Large  Family_type_Medium  \n",
       "0                  0                   1  \n",
       "1                  0                   1  \n",
       "2                  0                   0  "
      ]
     },
     "execution_count": 46,
     "metadata": {},
     "output_type": "execute_result"
    }
   ],
   "source": [
    "x.head(3)"
   ]
  },
  {
   "cell_type": "code",
   "execution_count": 47,
   "id": "10d01578",
   "metadata": {},
   "outputs": [
    {
     "data": {
      "text/plain": [
       "0    0\n",
       "1    1\n",
       "2    1\n",
       "3    1\n",
       "4    0\n",
       "Name: Survived, dtype: int64"
      ]
     },
     "execution_count": 47,
     "metadata": {},
     "output_type": "execute_result"
    }
   ],
   "source": [
    "y.head()"
   ]
  },
  {
   "cell_type": "code",
   "execution_count": 48,
   "id": "d5ce8511",
   "metadata": {},
   "outputs": [
    {
     "data": {
      "text/plain": [
       "0    537\n",
       "1    327\n",
       "Name: Survived, dtype: int64"
      ]
     },
     "execution_count": 48,
     "metadata": {},
     "output_type": "execute_result"
    }
   ],
   "source": [
    "y.value_counts()"
   ]
  },
  {
   "cell_type": "markdown",
   "id": "15a13d91",
   "metadata": {},
   "source": [
    "### Transforming the data for removing skewness"
   ]
  },
  {
   "cell_type": "code",
   "execution_count": 49,
   "id": "a9958d74",
   "metadata": {},
   "outputs": [],
   "source": [
    "from sklearn.preprocessing import power_transform\n",
    "x = power_transform(x,method='yeo-johnson')"
   ]
  },
  {
   "cell_type": "code",
   "execution_count": 50,
   "id": "5466caaa",
   "metadata": {},
   "outputs": [
    {
     "data": {
      "text/plain": [
       "array([[-0.56267593, -0.88276856, -0.51838448, ...,  0.60230891,\n",
       "        -0.22885618,  1.38169856],\n",
       "       [ 0.70295816,  1.5290383 , -0.51838448, ..., -1.66027761,\n",
       "        -0.22885618,  1.38169856],\n",
       "       [-0.23892784, -0.79244395, -0.51838448, ...,  0.60230891,\n",
       "        -0.22885618, -0.72374686],\n",
       "       ...,\n",
       "       [ 0.05566474,  0.34527507, -0.51838448, ...,  0.60230891,\n",
       "        -0.22885618,  1.38169856],\n",
       "       [-0.23892784,  0.60798116, -0.51838448, ..., -1.66027761,\n",
       "        -0.22885618, -0.72374686],\n",
       "       [ 0.23686358, -0.81516677, -0.51838448, ..., -1.66027761,\n",
       "        -0.22885618, -0.72374686]])"
      ]
     },
     "execution_count": 50,
     "metadata": {},
     "output_type": "execute_result"
    }
   ],
   "source": [
    "from sklearn.preprocessing import StandardScaler\n",
    "\n",
    "# transform my dataset into standard normal distribution\n",
    "sc = StandardScaler()\n",
    "x = sc.fit_transform(x)\n",
    "x"
   ]
  },
  {
   "cell_type": "code",
   "execution_count": 51,
   "id": "b0e7e016",
   "metadata": {},
   "outputs": [
    {
     "data": {
      "text/plain": [
       "-4.568819031379245e-19"
      ]
     },
     "execution_count": 51,
     "metadata": {},
     "output_type": "execute_result"
    }
   ],
   "source": [
    "x.mean()  "
   ]
  },
  {
   "cell_type": "code",
   "execution_count": 52,
   "id": "8506b6be",
   "metadata": {},
   "outputs": [
    {
     "data": {
      "text/plain": [
       "1.0"
      ]
     },
     "execution_count": 52,
     "metadata": {},
     "output_type": "execute_result"
    }
   ],
   "source": [
    "x.std()"
   ]
  },
  {
   "cell_type": "markdown",
   "id": "c6c5c7a6",
   "metadata": {},
   "source": [
    "### Finding Best Random State"
   ]
  },
  {
   "cell_type": "code",
   "execution_count": 53,
   "id": "d9b9bec3",
   "metadata": {},
   "outputs": [],
   "source": [
    "from sklearn.model_selection import train_test_split, cross_val_score\n",
    "from sklearn.metrics import accuracy_score, classification_report, confusion_matrix\n",
    "from sklearn.linear_model import LogisticRegression\n",
    "from sklearn.tree import DecisionTreeClassifier\n",
    "from sklearn.neighbors import KNeighborsClassifier\n",
    "from sklearn.ensemble import RandomForestClassifier, GradientBoostingClassifier"
   ]
  },
  {
   "cell_type": "code",
   "execution_count": 54,
   "id": "5c21ce35",
   "metadata": {},
   "outputs": [
    {
     "name": "stdout",
     "output_type": "stream",
     "text": [
      "Best Accuracy score is 0.8653846153846154 on Random State 415\n"
     ]
    }
   ],
   "source": [
    "# finding Best Random state\n",
    "maxAccu=0\n",
    "maxRS=0\n",
    "\n",
    "for i in range(1, 1000):\n",
    "    x_train, x_test, y_train, y_test = train_test_split(x, y, test_size=0.3, random_state=i)\n",
    "    lr=LogisticRegression()\n",
    "    lr.fit(x_train, y_train)\n",
    "    pred = lr.predict(x_test)\n",
    "    accuracy = accuracy_score(y_test, pred)\n",
    "    \n",
    "    if accuracy>maxAccu:\n",
    "        maxAccu=accuracy\n",
    "        maxRS=i\n",
    "\n",
    "print(\"Best Accuracy score is\", maxAccu,\"on Random State\", maxRS)"
   ]
  },
  {
   "cell_type": "markdown",
   "id": "45628177",
   "metadata": {},
   "source": [
    "### Balancing Datasaet"
   ]
  },
  {
   "cell_type": "code",
   "execution_count": 55,
   "id": "37ae3cd1",
   "metadata": {},
   "outputs": [],
   "source": [
    "from imblearn.over_sampling import SMOTE\n",
    "from collections import Counter"
   ]
  },
  {
   "cell_type": "code",
   "execution_count": 56,
   "id": "77806456",
   "metadata": {},
   "outputs": [],
   "source": [
    "x_train,x_test,y_train,y_test = train_test_split(x, y, test_size=0.3, random_state=415)"
   ]
  },
  {
   "cell_type": "code",
   "execution_count": 57,
   "id": "a49dae2e",
   "metadata": {},
   "outputs": [
    {
     "name": "stdout",
     "output_type": "stream",
     "text": [
      "The number of classes before fit Counter({0: 376, 1: 228})\n",
      "The number of classes after fit Counter({0: 376, 1: 376})\n"
     ]
    }
   ],
   "source": [
    "ove_smp = SMOTE(1.0)\n",
    "\n",
    "x_train_ns,y_train_ns = ove_smp.fit_sample(x_train,y_train)\n",
    "\n",
    "print('The number of classes before fit {}'.format(Counter(y_train)))\n",
    "print(\"The number of classes after fit {}\".format(Counter(y_train_ns)))"
   ]
  },
  {
   "cell_type": "markdown",
   "id": "354397fa",
   "metadata": {},
   "source": [
    "## Model Building"
   ]
  },
  {
   "cell_type": "markdown",
   "id": "cbb70f83",
   "metadata": {},
   "source": [
    "### LogisticRegression"
   ]
  },
  {
   "cell_type": "code",
   "execution_count": 58,
   "id": "1af18308",
   "metadata": {},
   "outputs": [
    {
     "data": {
      "text/plain": [
       "0.8346153846153846"
      ]
     },
     "execution_count": 58,
     "metadata": {},
     "output_type": "execute_result"
    }
   ],
   "source": [
    "lr = LogisticRegression()\n",
    "lr.fit(x_train_ns,y_train_ns)\n",
    "\n",
    "y_pred = lr.predict(x_test)\n",
    "accuracy_score(y_test,y_pred)"
   ]
  },
  {
   "cell_type": "code",
   "execution_count": 59,
   "id": "e84c3616",
   "metadata": {},
   "outputs": [],
   "source": [
    "from sklearn.model_selection import cross_val_score"
   ]
  },
  {
   "cell_type": "code",
   "execution_count": 60,
   "id": "7dce69e7",
   "metadata": {},
   "outputs": [],
   "source": [
    "pred_lr = lr.predict(x_test)\n",
    "accu = accuracy_score(y_test,pred_lr)"
   ]
  },
  {
   "cell_type": "code",
   "execution_count": 61,
   "id": "87e2f157",
   "metadata": {},
   "outputs": [
    {
     "name": "stdout",
     "output_type": "stream",
     "text": [
      "At cv:- 4\n",
      "Cross validation score is:- 80.78703703703705\n",
      "accuracy_score is:- 83.46153846153847\n",
      "\n",
      "\n",
      "At cv:- 5\n",
      "Cross validation score is:- 80.4409194784245\n",
      "accuracy_score is:- 83.46153846153847\n",
      "\n",
      "\n",
      "At cv:- 6\n",
      "Cross validation score is:- 80.32407407407408\n",
      "accuracy_score is:- 83.46153846153847\n",
      "\n",
      "\n",
      "At cv:- 7\n",
      "Cross validation score is:- 79.97545989284777\n",
      "accuracy_score is:- 83.46153846153847\n",
      "\n",
      "\n",
      "At cv:- 8\n",
      "Cross validation score is:- 80.43981481481481\n",
      "accuracy_score is:- 83.46153846153847\n",
      "\n",
      "\n",
      "At cv:- 9\n",
      "Cross validation score is:- 80.20833333333333\n",
      "accuracy_score is:- 83.46153846153847\n",
      "\n",
      "\n"
     ]
    }
   ],
   "source": [
    "for j in range(4,10):\n",
    "    cross = cross_val_score(lr,x,y,cv=j)\n",
    "    lsc = cross.mean()\n",
    "    print(\"At cv:-\",j)\n",
    "    print('Cross validation score is:-',lsc*100)\n",
    "    print('accuracy_score is:-',accu*100)\n",
    "    print('\\n')"
   ]
  },
  {
   "cell_type": "code",
   "execution_count": 62,
   "id": "51fdc3f6",
   "metadata": {},
   "outputs": [
    {
     "name": "stdout",
     "output_type": "stream",
     "text": [
      "The cv score is:  0.8020833333333333 \n",
      "The accuracy score is:  0.8346153846153846\n"
     ]
    }
   ],
   "source": [
    "lsscore_selected = cross_val_score(lr,x,y,cv=9).mean()\n",
    "print(\"The cv score is: \",lsscore_selected,\"\\nThe accuracy score is: \",accu)"
   ]
  },
  {
   "cell_type": "code",
   "execution_count": 63,
   "id": "1eb0e1c3",
   "metadata": {},
   "outputs": [],
   "source": [
    "def metric_score(clf, x_train_ns,x_test,y_train_ns,y_test, train=True):\n",
    "    if train:\n",
    "        \n",
    "        y_pred = clf.predict(x_train_ns)\n",
    "\n",
    "        print(\"\\n========================== Train Result=============================\")\n",
    "\n",
    "        print(f\"Accuracy Score: {accuracy_score(y_train_ns, y_pred) * 100:.2f}%\")\n",
    "\n",
    "    \n",
    "    elif train==False:\n",
    "        pred = clf.predict(x_test)\n",
    "        \n",
    "        print(\"\\n==========================Test Result=======================\")\n",
    "        print(f\"Accuracy Score: {accuracy_score(y_test,pred) * 100:.2f}%\")\n",
    "        \n",
    "        print(\"\\n \\n Test Classification Report \\n\", classification_report(y_test, pred, digits=2))\n",
    "        \n",
    "        print('\\n \\n Confusion Matrix \\n', confusion_matrix(y_test,pred))\n",
    "    "
   ]
  },
  {
   "cell_type": "code",
   "execution_count": 64,
   "id": "66b7b2bb",
   "metadata": {},
   "outputs": [],
   "source": [
    "from sklearn.ensemble import RandomForestClassifier, GradientBoostingClassifier\n",
    "from sklearn.tree import DecisionTreeClassifier"
   ]
  },
  {
   "cell_type": "markdown",
   "id": "2aed1637",
   "metadata": {},
   "source": [
    "### Random Forest"
   ]
  },
  {
   "cell_type": "code",
   "execution_count": 65,
   "id": "85067847",
   "metadata": {},
   "outputs": [
    {
     "data": {
      "text/plain": [
       "0.8153846153846154"
      ]
     },
     "execution_count": 65,
     "metadata": {},
     "output_type": "execute_result"
    }
   ],
   "source": [
    "rf = RandomForestClassifier()\n",
    "rf.fit(x_train_ns,y_train_ns)\n",
    "\n",
    "y_pred = rf.predict(x_test)\n",
    "accuracy_score(y_test,y_pred)"
   ]
  },
  {
   "cell_type": "code",
   "execution_count": 66,
   "id": "76cae896",
   "metadata": {},
   "outputs": [
    {
     "name": "stdout",
     "output_type": "stream",
     "text": [
      "\n",
      "========================== Train Result=============================\n",
      "Accuracy Score: 98.80%\n",
      "\n",
      "==========================Test Result=======================\n",
      "Accuracy Score: 81.54%\n",
      "\n",
      " \n",
      " Test Classification Report \n",
      "               precision    recall  f1-score   support\n",
      "\n",
      "           0       0.87      0.83      0.85       161\n",
      "           1       0.74      0.80      0.77        99\n",
      "\n",
      "    accuracy                           0.82       260\n",
      "   macro avg       0.80      0.81      0.81       260\n",
      "weighted avg       0.82      0.82      0.82       260\n",
      "\n",
      "\n",
      " \n",
      " Confusion Matrix \n",
      " [[133  28]\n",
      " [ 20  79]]\n"
     ]
    }
   ],
   "source": [
    "metric_score(rf,x_train_ns,x_test,y_train_ns, y_test, train=True)\n",
    "\n",
    "metric_score(rf,x_train_ns,x_test,y_train_ns, y_test, train=False)\n"
   ]
  },
  {
   "cell_type": "code",
   "execution_count": 67,
   "id": "4c853ecc",
   "metadata": {},
   "outputs": [],
   "source": [
    "pred_rf = rf.predict(x_test)\n",
    "accu = accuracy_score(y_test,pred_rf)"
   ]
  },
  {
   "cell_type": "code",
   "execution_count": 68,
   "id": "240be1ab",
   "metadata": {},
   "outputs": [
    {
     "name": "stdout",
     "output_type": "stream",
     "text": [
      "At cv:- 4\n",
      "Cross validation score is:- 80.0925925925926\n",
      "accuracy_score is:- 81.53846153846153\n",
      "\n",
      "\n",
      "At cv:- 5\n",
      "Cross validation score is:- 79.51875252050007\n",
      "accuracy_score is:- 81.53846153846153\n",
      "\n",
      "\n",
      "At cv:- 6\n",
      "Cross validation score is:- 80.55555555555554\n",
      "accuracy_score is:- 81.53846153846153\n",
      "\n",
      "\n",
      "At cv:- 7\n",
      "Cross validation score is:- 80.44471919373572\n",
      "accuracy_score is:- 81.53846153846153\n",
      "\n",
      "\n",
      "At cv:- 8\n",
      "Cross validation score is:- 79.97685185185185\n",
      "accuracy_score is:- 81.53846153846153\n",
      "\n",
      "\n",
      "At cv:- 9\n",
      "Cross validation score is:- 80.0925925925926\n",
      "accuracy_score is:- 81.53846153846153\n",
      "\n",
      "\n"
     ]
    }
   ],
   "source": [
    "for j in range(4,10):\n",
    "    cross = cross_val_score(rf,x,y,cv=j)\n",
    "    lsc = cross.mean()\n",
    "    print(\"At cv:-\",j)\n",
    "    print('Cross validation score is:-',lsc*100)\n",
    "    print('accuracy_score is:-',accu*100)\n",
    "    print('\\n')"
   ]
  },
  {
   "cell_type": "code",
   "execution_count": 70,
   "id": "5f739ee2",
   "metadata": {},
   "outputs": [
    {
     "name": "stdout",
     "output_type": "stream",
     "text": [
      "The cv score is:  0.8113971001461168 \n",
      "The accuracy score is:  0.8153846153846154\n"
     ]
    }
   ],
   "source": [
    "lsscore_selected = cross_val_score(rf,x,y,cv=7).mean()\n",
    "print(\"The cv score is: \",lsscore_selected,\"\\nThe accuracy score is: \",accu)"
   ]
  },
  {
   "cell_type": "markdown",
   "id": "a8a6479f",
   "metadata": {},
   "source": [
    "### Hyperparameter Tuning"
   ]
  },
  {
   "cell_type": "code",
   "execution_count": 71,
   "id": "0406bf92",
   "metadata": {},
   "outputs": [],
   "source": [
    "from sklearn.model_selection import GridSearchCV"
   ]
  },
  {
   "cell_type": "code",
   "execution_count": 72,
   "id": "ba57b84d",
   "metadata": {},
   "outputs": [
    {
     "name": "stdout",
     "output_type": "stream",
     "text": [
      "Best_params  = >  {'criterion': 'gini', 'max_depth': 15, 'min_samples_leaf': 5, 'min_samples_split': 10, 'n_estimators': 15}\n"
     ]
    }
   ],
   "source": [
    "# RandomForestClassifier\n",
    "params = {'n_estimators':[13,15],\n",
    "         'criterion':['entropy','gini'],\n",
    "         'max_depth':[10,15],\n",
    "         'min_samples_split':[10,11],\n",
    "         'min_samples_leaf':[5,6]}\n",
    "\n",
    "grd = GridSearchCV(rf,param_grid = params)\n",
    "grd.fit(x_train_ns,y_train_ns)\n",
    "\n",
    "print('Best_params  = > ',grd.best_params_)"
   ]
  },
  {
   "cell_type": "code",
   "execution_count": 73,
   "id": "260986c7",
   "metadata": {},
   "outputs": [
    {
     "name": "stdout",
     "output_type": "stream",
     "text": [
      "\n",
      "========================== Train Result=============================\n",
      "Accuracy Score: 86.44%\n",
      "\n",
      "==========================Test Result=======================\n",
      "Accuracy Score: 83.85%\n",
      "\n",
      " \n",
      " Test Classification Report \n",
      "               precision    recall  f1-score   support\n",
      "\n",
      "           0       0.87      0.88      0.87       161\n",
      "           1       0.79      0.78      0.79        99\n",
      "\n",
      "    accuracy                           0.84       260\n",
      "   macro avg       0.83      0.83      0.83       260\n",
      "weighted avg       0.84      0.84      0.84       260\n",
      "\n",
      "\n",
      " \n",
      " Confusion Matrix \n",
      " [[141  20]\n",
      " [ 22  77]]\n"
     ]
    }
   ],
   "source": [
    "# reinstantiating with best params\n",
    "rf = RandomForestClassifier(criterion='gini', max_depth=10, min_samples_leaf=5, min_samples_split=10, n_estimators=15)            \n",
    "\n",
    "rf.fit(x_train_ns,y_train_ns)\n",
    "metric_score(rf,x_train_ns,x_test,y_train_ns,y_test,train=True)  # Thiis is for training score\n",
    "\n",
    "metric_score(rf,x_train_ns,x_test,y_train_ns,y_test,train=False)  \n"
   ]
  },
  {
   "cell_type": "markdown",
   "id": "410307fe",
   "metadata": {},
   "source": [
    "### Gradient Boosting Classifier"
   ]
  },
  {
   "cell_type": "code",
   "execution_count": 74,
   "id": "931b22db",
   "metadata": {},
   "outputs": [
    {
     "data": {
      "text/plain": [
       "0.8576923076923076"
      ]
     },
     "execution_count": 74,
     "metadata": {},
     "output_type": "execute_result"
    }
   ],
   "source": [
    "gbt=GradientBoostingClassifier()\n",
    "gbt.fit(x_train_ns,y_train_ns)\n",
    "\n",
    "\n",
    "y_pred = gbt.predict(x_test)\n",
    "accuracy_score(y_test,y_pred)"
   ]
  },
  {
   "cell_type": "code",
   "execution_count": 75,
   "id": "1c264bcb",
   "metadata": {},
   "outputs": [
    {
     "name": "stdout",
     "output_type": "stream",
     "text": [
      "\n",
      "========================== Train Result=============================\n",
      "Accuracy Score: 89.10%\n",
      "\n",
      "==========================Test Result=======================\n",
      "Accuracy Score: 85.77%\n",
      "\n",
      " \n",
      " Test Classification Report \n",
      "               precision    recall  f1-score   support\n",
      "\n",
      "           0       0.88      0.89      0.89       161\n",
      "           1       0.82      0.81      0.81        99\n",
      "\n",
      "    accuracy                           0.86       260\n",
      "   macro avg       0.85      0.85      0.85       260\n",
      "weighted avg       0.86      0.86      0.86       260\n",
      "\n",
      "\n",
      " \n",
      " Confusion Matrix \n",
      " [[143  18]\n",
      " [ 19  80]]\n"
     ]
    }
   ],
   "source": [
    "metric_score(gbt,x_train_ns,x_test,y_train_ns, y_test, train=True)\n",
    "\n",
    "metric_score(gbt,x_train_ns,x_test,y_train_ns, y_test, train=False)\n"
   ]
  },
  {
   "cell_type": "code",
   "execution_count": 76,
   "id": "ee745982",
   "metadata": {},
   "outputs": [
    {
     "data": {
      "text/plain": [
       "0.8576923076923076"
      ]
     },
     "execution_count": 76,
     "metadata": {},
     "output_type": "execute_result"
    }
   ],
   "source": [
    "pred_gbt = gbt.predict(x_test)\n",
    "\n",
    "accu = accuracy_score(y_test,pred_gbt)\n",
    "accu"
   ]
  },
  {
   "cell_type": "code",
   "execution_count": 77,
   "id": "135f2deb",
   "metadata": {},
   "outputs": [
    {
     "name": "stdout",
     "output_type": "stream",
     "text": [
      "At cv:- 4\n",
      "Cross validation score is:- 82.06018518518518\n",
      "accuracy_score is:- 85.76923076923076\n",
      "\n",
      "\n",
      "At cv:- 5\n",
      "Cross validation score is:- 81.13657749697539\n",
      "accuracy_score is:- 85.76923076923076\n",
      "\n",
      "\n",
      "At cv:- 6\n",
      "Cross validation score is:- 81.71296296296296\n",
      "accuracy_score is:- 85.76923076923076\n",
      "\n",
      "\n",
      "At cv:- 7\n",
      "Cross validation score is:- 81.36918811584428\n",
      "accuracy_score is:- 85.76923076923076\n",
      "\n",
      "\n",
      "At cv:- 8\n",
      "Cross validation score is:- 81.59722222222223\n",
      "accuracy_score is:- 85.76923076923076\n",
      "\n",
      "\n",
      "At cv:- 9\n",
      "Cross validation score is:- 81.71296296296296\n",
      "accuracy_score is:- 85.76923076923076\n",
      "\n",
      "\n"
     ]
    }
   ],
   "source": [
    "for j in range(4,10):\n",
    "    cross = cross_val_score(gbt,x,y,cv=j)\n",
    "    lsc = cross.mean()\n",
    "    print(\"At cv:-\",j)\n",
    "    print('Cross validation score is:-',lsc*100)\n",
    "    print('accuracy_score is:-',accu*100)\n",
    "    print('\\n')"
   ]
  },
  {
   "cell_type": "code",
   "execution_count": 78,
   "id": "6c0abeda",
   "metadata": {},
   "outputs": [
    {
     "name": "stdout",
     "output_type": "stream",
     "text": [
      "The cv score is:  0.8206018518518517 \n",
      "The accuracy score is:  0.8576923076923076\n"
     ]
    }
   ],
   "source": [
    "lsscore_selected = cross_val_score(gbt,x,y,cv=4).mean()\n",
    "print(\"The cv score is: \",lsscore_selected,\"\\nThe accuracy score is: \",accu)"
   ]
  },
  {
   "cell_type": "markdown",
   "id": "742e7829",
   "metadata": {},
   "source": [
    "### Hyperparameter Tuning"
   ]
  },
  {
   "cell_type": "code",
   "execution_count": 79,
   "id": "42a38286",
   "metadata": {},
   "outputs": [],
   "source": [
    "grid_param = {\n",
    "    'max_depth': range(4,8),\n",
    "    'min_samples_split': range(2,8,2),\n",
    "    'learning_rate': np.arange(0.1,0.3)\n",
    "}"
   ]
  },
  {
   "cell_type": "code",
   "execution_count": 80,
   "id": "60738792",
   "metadata": {},
   "outputs": [
    {
     "name": "stdout",
     "output_type": "stream",
     "text": [
      "GradientBoostingClassifier(max_depth=6, min_samples_split=4)\n"
     ]
    }
   ],
   "source": [
    "grid = GridSearchCV(gbt, param_grid=grid_param)\n",
    "\n",
    "grid.fit(x_train_ns,y_train_ns)\n",
    "\n",
    "print(grid.best_estimator_)"
   ]
  },
  {
   "cell_type": "code",
   "execution_count": 102,
   "id": "2d9adf47",
   "metadata": {},
   "outputs": [
    {
     "name": "stdout",
     "output_type": "stream",
     "text": [
      "\n",
      "========================== Train Result=============================\n",
      "Accuracy Score: 81.78%\n",
      "\n",
      "==========================Test Result=======================\n",
      "Accuracy Score: 86.15%\n",
      "\n",
      " \n",
      " Test Classification Report \n",
      "               precision    recall  f1-score   support\n",
      "\n",
      "           0       0.88      0.89      0.89       161\n",
      "           1       0.82      0.81      0.82        99\n",
      "\n",
      "    accuracy                           0.86       260\n",
      "   macro avg       0.85      0.85      0.85       260\n",
      "weighted avg       0.86      0.86      0.86       260\n",
      "\n",
      "\n",
      " \n",
      " Confusion Matrix \n",
      " [[144  17]\n",
      " [ 19  80]]\n"
     ]
    }
   ],
   "source": [
    "gbt = GradientBoostingClassifier(max_depth=3,min_samples_split=10, learning_rate=0.01)\n",
    "\n",
    "gbt.fit(x_train_ns,y_train_ns)\n",
    "\n",
    "metric_score(gbt,x_train_ns,x_test,y_train_ns,y_test, train=True)  # This is for training score\n",
    "\n",
    "metric_score(gbt,x_train_ns,x_test,y_train_ns,y_test, train=False) # This is for testing score\n"
   ]
  },
  {
   "cell_type": "markdown",
   "id": "1073b2fe",
   "metadata": {},
   "source": [
    " ###  XGBoost"
   ]
  },
  {
   "cell_type": "code",
   "execution_count": 103,
   "id": "469970f9",
   "metadata": {},
   "outputs": [
    {
     "name": "stdout",
     "output_type": "stream",
     "text": [
      "[11:16:12] WARNING: ..\\src\\learner.cc:1115: Starting in XGBoost 1.3.0, the default evaluation metric used with the objective 'binary:logistic' was changed from 'error' to 'logloss'. Explicitly set eval_metric if you'd like to restore the old behavior.\n",
      "\n",
      "========================== Train Result=============================\n",
      "Accuracy Score: 98.14%\n",
      "\n",
      "==========================Test Result=======================\n",
      "Accuracy Score: 79.23%\n",
      "\n",
      " \n",
      " Test Classification Report \n",
      "               precision    recall  f1-score   support\n",
      "\n",
      "           0       0.83      0.83      0.83       161\n",
      "           1       0.73      0.73      0.73        99\n",
      "\n",
      "    accuracy                           0.79       260\n",
      "   macro avg       0.78      0.78      0.78       260\n",
      "weighted avg       0.79      0.79      0.79       260\n",
      "\n",
      "\n",
      " \n",
      " Confusion Matrix \n",
      " [[134  27]\n",
      " [ 27  72]]\n"
     ]
    }
   ],
   "source": [
    "import xgboost as xgb\n",
    "xgb = xgb.XGBClassifier()\n",
    "\n",
    "xgb.fit(x_train_ns,y_train_ns)\n",
    "\n",
    "metric_score(xgb,x_train_ns,x_test,y_train_ns, y_test, train=True)\n",
    "\n",
    "metric_score(xgb,x_train_ns,x_test,y_train_ns, y_test, train=False)\n"
   ]
  },
  {
   "cell_type": "markdown",
   "id": "64edf1c0",
   "metadata": {},
   "source": [
    "### DecisionTree"
   ]
  },
  {
   "cell_type": "code",
   "execution_count": 104,
   "id": "d6fbd0df",
   "metadata": {},
   "outputs": [
    {
     "data": {
      "text/plain": [
       "0.7961538461538461"
      ]
     },
     "execution_count": 104,
     "metadata": {},
     "output_type": "execute_result"
    }
   ],
   "source": [
    "dt=DecisionTreeClassifier()\n",
    "dt.fit(x_train_ns,y_train_ns)\n",
    "\n",
    "\n",
    "y_pred = dt.predict(x_test)\n",
    "accuracy_score(y_test,y_pred)"
   ]
  },
  {
   "cell_type": "code",
   "execution_count": 105,
   "id": "a40b1fa3",
   "metadata": {},
   "outputs": [
    {
     "name": "stdout",
     "output_type": "stream",
     "text": [
      "\n",
      "========================== Train Result=============================\n",
      "Accuracy Score: 98.80%\n",
      "\n",
      "==========================Test Result=======================\n",
      "Accuracy Score: 79.62%\n",
      "\n",
      " \n",
      " Test Classification Report \n",
      "               precision    recall  f1-score   support\n",
      "\n",
      "           0       0.83      0.84      0.84       161\n",
      "           1       0.74      0.72      0.73        99\n",
      "\n",
      "    accuracy                           0.80       260\n",
      "   macro avg       0.78      0.78      0.78       260\n",
      "weighted avg       0.80      0.80      0.80       260\n",
      "\n",
      "\n",
      " \n",
      " Confusion Matrix \n",
      " [[136  25]\n",
      " [ 28  71]]\n"
     ]
    }
   ],
   "source": [
    "metric_score(dt,x_train_ns,x_test,y_train_ns, y_test, train=True)\n",
    "\n",
    "metric_score(dt,x_train_ns,x_test,y_train_ns, y_test, train=False)\n"
   ]
  },
  {
   "cell_type": "code",
   "execution_count": 106,
   "id": "9cdaa6f3",
   "metadata": {},
   "outputs": [],
   "source": [
    "pred_dt = dt.predict(x_test)\n",
    "\n",
    "accu = accuracy_score(y_test,pred_dt)"
   ]
  },
  {
   "cell_type": "code",
   "execution_count": 107,
   "id": "b2a410a1",
   "metadata": {},
   "outputs": [
    {
     "name": "stdout",
     "output_type": "stream",
     "text": [
      "At cv:- 4\n",
      "Cross validation score is:- 76.50462962962963\n",
      "accuracy_score is:- 79.61538461538461\n",
      "\n",
      "\n",
      "At cv:- 5\n",
      "Cross validation score is:- 77.1998924586638\n",
      "accuracy_score is:- 79.61538461538461\n",
      "\n",
      "\n",
      "At cv:- 6\n",
      "Cross validation score is:- 77.08333333333334\n",
      "accuracy_score is:- 79.61538461538461\n",
      "\n",
      "\n",
      "At cv:- 7\n",
      "Cross validation score is:- 76.8620508785733\n",
      "accuracy_score is:- 79.61538461538461\n",
      "\n",
      "\n",
      "At cv:- 8\n",
      "Cross validation score is:- 77.5462962962963\n",
      "accuracy_score is:- 79.61538461538461\n",
      "\n",
      "\n",
      "At cv:- 9\n",
      "Cross validation score is:- 78.00925925925925\n",
      "accuracy_score is:- 79.61538461538461\n",
      "\n",
      "\n"
     ]
    }
   ],
   "source": [
    "for j in range(4,10):\n",
    "    cross = cross_val_score(dt,x,y,cv=j)\n",
    "    lsc = cross.mean()\n",
    "    print(\"At cv:-\",j)\n",
    "    print('Cross validation score is:-',lsc*100)\n",
    "    print('accuracy_score is:-',accu*100)\n",
    "    print('\\n')"
   ]
  },
  {
   "cell_type": "code",
   "execution_count": 108,
   "id": "3b160c43",
   "metadata": {},
   "outputs": [
    {
     "name": "stdout",
     "output_type": "stream",
     "text": [
      "The cv score is:  0.7835648148148148 \n",
      "The accuracy score is:  0.7961538461538461\n"
     ]
    }
   ],
   "source": [
    "lsscore_selected = cross_val_score(dt,x,y,cv=9).mean()\n",
    "print(\"The cv score is: \",lsscore_selected,\"\\nThe accuracy score is: \",accu)"
   ]
  },
  {
   "cell_type": "markdown",
   "id": "17692d42",
   "metadata": {},
   "source": [
    "### SVC"
   ]
  },
  {
   "cell_type": "code",
   "execution_count": 109,
   "id": "150be6b2",
   "metadata": {},
   "outputs": [
    {
     "name": "stdout",
     "output_type": "stream",
     "text": [
      "\n",
      "========================== Train Result=============================\n",
      "Accuracy Score: 82.58%\n",
      "\n",
      "==========================Test Result=======================\n",
      "Accuracy Score: 83.85%\n",
      "\n",
      " \n",
      " Test Classification Report \n",
      "               precision    recall  f1-score   support\n",
      "\n",
      "           0       0.90      0.83      0.86       161\n",
      "           1       0.75      0.86      0.80        99\n",
      "\n",
      "    accuracy                           0.84       260\n",
      "   macro avg       0.83      0.84      0.83       260\n",
      "weighted avg       0.85      0.84      0.84       260\n",
      "\n",
      "\n",
      " \n",
      " Confusion Matrix \n",
      " [[133  28]\n",
      " [ 14  85]]\n"
     ]
    }
   ],
   "source": [
    "from sklearn.svm import SVC\n",
    "svc = SVC()\n",
    "svc.fit(x_train_ns,y_train_ns)\n",
    "\n",
    "metric_score(svc,x_train_ns,x_test,y_train_ns, y_test, train=True)\n",
    "\n",
    "metric_score(svc,x_train_ns,x_test,y_train_ns, y_test, train=False)\n"
   ]
  },
  {
   "cell_type": "code",
   "execution_count": 110,
   "id": "0326b910",
   "metadata": {},
   "outputs": [
    {
     "name": "stdout",
     "output_type": "stream",
     "text": [
      "At cv:- 4\n",
      "Cross validation score is:- 81.94444444444444\n",
      "accuracy_score is:- 83.84615384615385\n",
      "\n",
      "\n",
      "At cv:- 5\n",
      "Cross validation score is:- 81.60034950934266\n",
      "accuracy_score is:- 83.84615384615385\n",
      "\n",
      "\n",
      "At cv:- 6\n",
      "Cross validation score is:- 81.82870370370371\n",
      "accuracy_score is:- 83.84615384615385\n",
      "\n",
      "\n",
      "At cv:- 7\n",
      "Cross validation score is:- 81.94428833689258\n",
      "accuracy_score is:- 83.84615384615385\n",
      "\n",
      "\n",
      "At cv:- 8\n",
      "Cross validation score is:- 81.71296296296296\n",
      "accuracy_score is:- 83.84615384615385\n",
      "\n",
      "\n",
      "At cv:- 9\n",
      "Cross validation score is:- 81.59722222222221\n",
      "accuracy_score is:- 83.84615384615385\n",
      "\n",
      "\n"
     ]
    }
   ],
   "source": [
    "pred_svc = svc.predict(x_test)\n",
    "\n",
    "accu = accuracy_score(y_test,pred_svc)\n",
    "\n",
    "for j in range(4,10):\n",
    "    cross = cross_val_score(svc,x,y,cv=j)\n",
    "    lsc = cross.mean()\n",
    "    print(\"At cv:-\",j)\n",
    "    print('Cross validation score is:-',lsc*100)\n",
    "    print('accuracy_score is:-',accu*100)\n",
    "    print('\\n')\n"
   ]
  },
  {
   "cell_type": "code",
   "execution_count": 111,
   "id": "ba6deac3",
   "metadata": {},
   "outputs": [
    {
     "name": "stdout",
     "output_type": "stream",
     "text": [
      "The cv score is:  0.8194444444444444 \n",
      "The accuracy score is:  0.8384615384615385\n"
     ]
    }
   ],
   "source": [
    "lsscore_selected = cross_val_score(svc,x,y,cv=4).mean()\n",
    "print(\"The cv score is: \",lsscore_selected,\"\\nThe accuracy score is: \",accu)"
   ]
  },
  {
   "cell_type": "markdown",
   "id": "9e5c39d7",
   "metadata": {},
   "source": [
    "### KNN"
   ]
  },
  {
   "cell_type": "code",
   "execution_count": 112,
   "id": "8c6bd744",
   "metadata": {},
   "outputs": [
    {
     "name": "stdout",
     "output_type": "stream",
     "text": [
      "\n",
      "========================== Train Result=============================\n",
      "Accuracy Score: 86.70%\n",
      "\n",
      "==========================Test Result=======================\n",
      "Accuracy Score: 80.00%\n",
      "\n",
      " \n",
      " Test Classification Report \n",
      "               precision    recall  f1-score   support\n",
      "\n",
      "           0       0.88      0.79      0.83       161\n",
      "           1       0.70      0.82      0.76        99\n",
      "\n",
      "    accuracy                           0.80       260\n",
      "   macro avg       0.79      0.80      0.79       260\n",
      "weighted avg       0.81      0.80      0.80       260\n",
      "\n",
      "\n",
      " \n",
      " Confusion Matrix \n",
      " [[127  34]\n",
      " [ 18  81]]\n"
     ]
    }
   ],
   "source": [
    "from sklearn.neighbors import KNeighborsClassifier\n",
    "knn = KNeighborsClassifier()\n",
    "knn.fit(x_train_ns,y_train_ns)\n",
    "\n",
    "metric_score(knn,x_train_ns,x_test,y_train_ns, y_test, train=True)\n",
    "\n",
    "metric_score(knn,x_train_ns,x_test,y_train_ns, y_test, train=False)"
   ]
  },
  {
   "cell_type": "code",
   "execution_count": 113,
   "id": "94b9178a",
   "metadata": {},
   "outputs": [],
   "source": [
    "pred_knn = knn.predict(x_test)\n",
    "\n",
    "accu = accuracy_score(y_test,pred_knn)"
   ]
  },
  {
   "cell_type": "code",
   "execution_count": 114,
   "id": "7a5c8e7e",
   "metadata": {},
   "outputs": [
    {
     "name": "stdout",
     "output_type": "stream",
     "text": [
      "At cv:- 4\n",
      "Cross validation score is:- 80.90277777777779\n",
      "accuracy_score is:- 80.0\n",
      "\n",
      "\n",
      "At cv:- 5\n",
      "Cross validation score is:- 81.25218443339158\n",
      "accuracy_score is:- 80.0\n",
      "\n",
      "\n",
      "At cv:- 6\n",
      "Cross validation score is:- 80.78703703703704\n",
      "accuracy_score is:- 80.0\n",
      "\n",
      "\n",
      "At cv:- 7\n",
      "Cross validation score is:- 81.14251995054514\n",
      "accuracy_score is:- 80.0\n",
      "\n",
      "\n",
      "At cv:- 8\n",
      "Cross validation score is:- 81.25\n",
      "accuracy_score is:- 80.0\n",
      "\n",
      "\n",
      "At cv:- 9\n",
      "Cross validation score is:- 81.48148148148148\n",
      "accuracy_score is:- 80.0\n",
      "\n",
      "\n"
     ]
    }
   ],
   "source": [
    "for j in range(4,10):\n",
    "    cross = cross_val_score(knn,x,y,cv=j)\n",
    "    lsc = cross.mean()\n",
    "    print(\"At cv:-\",j)\n",
    "    print('Cross validation score is:-',lsc*100)\n",
    "    print('accuracy_score is:-',accu*100)\n",
    "    print('\\n')"
   ]
  },
  {
   "cell_type": "code",
   "execution_count": 115,
   "id": "87537bb2",
   "metadata": {},
   "outputs": [
    {
     "name": "stdout",
     "output_type": "stream",
     "text": [
      "The cv score is:  0.8148148148148148 \n",
      "The accuracy score is:  0.8\n"
     ]
    }
   ],
   "source": [
    "lsscore_selected = cross_val_score(knn,x,y,cv=9).mean()\n",
    "print(\"The cv score is: \",lsscore_selected,\"\\nThe accuracy score is: \",accu)"
   ]
  },
  {
   "cell_type": "markdown",
   "id": "ccb9e962",
   "metadata": {},
   "source": [
    "### ROC_AUC Curve"
   ]
  },
  {
   "cell_type": "code",
   "execution_count": 116,
   "id": "b8d0c1c5",
   "metadata": {},
   "outputs": [],
   "source": [
    "from sklearn.metrics import roc_curve,roc_auc_score\n",
    "from sklearn.metrics import plot_roc_curve"
   ]
  },
  {
   "cell_type": "code",
   "execution_count": 117,
   "id": "a3338e60",
   "metadata": {},
   "outputs": [
    {
     "data": {
      "image/png": "[encoded data removed]",
      "text/plain": [
       "<Figure size 432x288 with 1 Axes>"
      ]
     },
     "metadata": {
      "needs_background": "light"
     },
     "output_type": "display_data"
    }
   ],
   "source": [
    "# AUC Curve For Training\n",
    "disp = plot_roc_curve(dt,x_train_ns,y_train_ns)\n",
    "\n",
    "plot_roc_curve(lr,x_train_ns,y_train_ns, ax=disp.ax_)\n",
    "\n",
    "plot_roc_curve(knn,x_train_ns,y_train_ns, ax=disp.ax_)\n",
    "\n",
    "plot_roc_curve(rf,x_train_ns,y_train_ns, ax=disp.ax_)\n",
    "\n",
    "plot_roc_curve(gbt, x_train_ns,y_train_ns, ax=disp.ax_)\n",
    "\n",
    "plt.legend(prop={'size':10}, loc='lower right')\n",
    "\n",
    "plt.show()"
   ]
  },
  {
   "cell_type": "code",
   "execution_count": 118,
   "id": "d6c9f382",
   "metadata": {},
   "outputs": [
    {
     "data": {
      "text/plain": [
       "<Figure size 1440x1080 with 0 Axes>"
      ]
     },
     "metadata": {},
     "output_type": "display_data"
    },
    {
     "data": {
      "image/png": "[encoded data removed]",
      "text/plain": [
       "<Figure size 432x288 with 1 Axes>"
      ]
     },
     "metadata": {
      "needs_background": "light"
     },
     "output_type": "display_data"
    }
   ],
   "source": [
    "# AUC curve for testing\n",
    "\n",
    "plt.figure(figsize=(20,15))\n",
    "\n",
    "disp = plot_roc_curve(dt,x_test,y_test)\n",
    "\n",
    "plot_roc_curve(lr,x_test,y_test, ax=disp.ax_)\n",
    "\n",
    "plot_roc_curve(knn,x_test,y_test, ax=disp.ax_)\n",
    "\n",
    "plot_roc_curve(rf,x_test,y_test, ax=disp.ax_)\n",
    "\n",
    "plot_roc_curve(gbt, x_test,y_test, ax=disp.ax_)\n",
    "\n",
    "plt.legend(prop={'size':11}, loc='lower right')\n",
    "\n",
    "plt.show()"
   ]
  },
  {
   "cell_type": "markdown",
   "id": "8ee8e88a",
   "metadata": {},
   "source": [
    "## Conclusion"
   ]
  },
  {
   "cell_type": "markdown",
   "id": "cabb0ff9",
   "metadata": {},
   "source": [
    "### By using GradientBoosting Classifier, we are getting model accuracy as 86.15% which show our model is performing extremly well."
   ]
  },
  {
   "cell_type": "markdown",
   "id": "192073fb",
   "metadata": {},
   "source": [
    "### Model Save"
   ]
  },
  {
   "cell_type": "code",
   "execution_count": 119,
   "id": "98941a76",
   "metadata": {},
   "outputs": [],
   "source": [
    "import pickle\n",
    "titanic = 'Titanic.pkl'\n",
    "pickle.dump(gbt, open(titanic, 'wb'))"
   ]
  },
  {
   "cell_type": "code",
   "execution_count": null,
   "id": "e8f906d2",
   "metadata": {},
   "outputs": [],
   "source": []
  }
 ],
 "metadata": {
  "kernelspec": {
   "display_name": "Python 3 (ipykernel)",
   "language": "python",
   "name": "python3"
  },
  "language_info": {
   "codemirror_mode": {
    "name": "ipython",
    "version": 3
   },
   "file_extension": ".py",
   "mimetype": "text/x-python",
   "name": "python",
   "nbconvert_exporter": "python",
   "pygments_lexer": "ipython3",
   "version": "3.9.7"
  }
 },
 "nbformat": 4,
 "nbformat_minor": 5
}
